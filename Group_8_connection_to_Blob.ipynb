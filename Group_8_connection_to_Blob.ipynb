{
  "nbformat": 4,
  "nbformat_minor": 0,
  "metadata": {
    "colab": {
      "provenance": [],
      "collapsed_sections": [
        "aSPvH1Q9FTd_"
      ]
    },
    "kernelspec": {
      "name": "python3",
      "display_name": "Python 3"
    },
    "language_info": {
      "name": "python"
    }
  },
  "cells": [
    {
      "cell_type": "markdown",
      "source": [
        "# SEND EVENTS TO CONTAINER"
      ],
      "metadata": {
        "id": "vRA3GZS1eIHp"
      }
    },
    {
      "cell_type": "code",
      "execution_count": null,
      "metadata": {
        "id": "ya-TWxoQC_zF"
      },
      "outputs": [],
      "source": [
        "event_hub_namespace=\"iesstsabbadbaa-grp-06-10\"\n",
        "consumer_eventhub_connection_str='Endpoint=sb://iesstsabbadbaa-grp-06-10.servicebus.windows.net/;SharedAccessKeyName=ridesconsumer;SharedAccessKey=f82trXEoV+VyuCL2Xah3fSOB9JWoaG36L+AEhJ9CqaE=;EntityPath=ride-requests-g8-v2'\n",
        "eventhub_name='ride-requests-g8-v2'\n",
        "\n",
        "consumer_eventhub_connection_str_requests='Endpoint=sb://iesstsabbadbaa-grp-06-10.servicebus.windows.net/;SharedAccessKeyName=driversconsumer;SharedAccessKey=+xc2QnEHgB6Cr2L47Usi+OC+m3xwxLc7H+AEhNZAStI=;EntityPath=drivers-g8-v2'\n",
        "eventhub_name_requests='drivers-g8-v2'\n",
        "\n",
        "# Azure Blob\n",
        "account_name='iesstsabbadbaa'\n",
        "account_key='YiUournbsPdwTGVanY1bNSsUcy1Z7NUNoty1fo0SDxcHoe6gzTxeq7BlIG4c3owhT1IIhim2IsHF+AStMie8jw=='\n",
        "container_name='streamed-data-group8'"
      ]
    },
    {
      "cell_type": "code",
      "source": [
        "import os\n",
        "import subprocess\n",
        "\n",
        "# Fetch the latest Spark 3.x.x version\n",
        "# curl -s https://downloads.apache.org/spark/ → Fetches the Spark download page.\n",
        "# grep -o 'spark-3\\.[0-9]\\+\\.[0-9]\\+' → Extracts only versions that start with spark-3. (ignoring Spark 4.x if it exists in the future).\n",
        "# sort -V → Sorts the versions numerically.\n",
        "# tail -1 → Selects the latest version.\n",
        "spark_version = subprocess.run(\n",
        "    \"curl -s https://downloads.apache.org/spark/ | grep -o 'spark-3\\\\.[0-9]\\\\+\\\\.[0-9]\\\\+' | sort -V | tail -1\",\n",
        "    shell=True, capture_output=True, text=True\n",
        ").stdout.strip()\n",
        "\n",
        "spark_version"
      ],
      "metadata": {
        "colab": {
          "base_uri": "https://localhost:8080/",
          "height": 36
        },
        "id": "fDklLlY7DHsP",
        "outputId": "8ae7108b-e474-4b00-a5b7-5cfe1a30788e"
      },
      "execution_count": null,
      "outputs": [
        {
          "output_type": "execute_result",
          "data": {
            "text/plain": [
              "'spark-3.5.5'"
            ],
            "application/vnd.google.colaboratory.intrinsic+json": {
              "type": "string"
            }
          },
          "metadata": {},
          "execution_count": 1
        }
      ]
    },
    {
      "cell_type": "code",
      "source": [
        "spark_release=spark_version\n",
        "hadoop_version='hadoop3'\n",
        "\n",
        "import os, time\n",
        "start=time.time()\n",
        "os.environ['SPARK_RELEASE']=spark_release\n",
        "os.environ['HADOOP_VERSION']=hadoop_version\n",
        "os.environ[\"JAVA_HOME\"] = \"/usr/lib/jvm/java-8-openjdk-amd64\"\n",
        "os.environ[\"SPARK_HOME\"] = f\"/content/{spark_release}-bin-{hadoop_version}\""
      ],
      "metadata": {
        "id": "b6ybAq_1DK6J"
      },
      "execution_count": null,
      "outputs": []
    },
    {
      "cell_type": "code",
      "source": [
        "if True:\n",
        "  # Run below commands in google colab\n",
        "  !apt-get install openjdk-8-jdk-headless -qq > /dev/null # install Java8\n",
        "  !wget -q http://apache.osuosl.org/spark/${SPARK_RELEASE}/${SPARK_RELEASE}-bin-${HADOOP_VERSION}.tgz # download spark-3.3.X\n",
        "  !tar xf ${SPARK_RELEASE}-bin-${HADOOP_VERSION}.tgz # unzip it\n",
        "\n",
        "  !pip install -q findspark # install findspark\n",
        "  # findspark find your Spark Distribution and sets necessary environment variables"
      ],
      "metadata": {
        "id": "xnSFypy6DMYD"
      },
      "execution_count": null,
      "outputs": []
    },
    {
      "cell_type": "code",
      "source": [
        "import findspark\n",
        "findspark.init()\n",
        "\n",
        "# Check the pyspark version\n",
        "import pyspark\n",
        "print(pyspark.__version__)"
      ],
      "metadata": {
        "colab": {
          "base_uri": "https://localhost:8080/"
        },
        "id": "egua_yAjDOQ3",
        "outputId": "568aff00-399d-466d-85a2-145779672552"
      },
      "execution_count": null,
      "outputs": [
        {
          "output_type": "stream",
          "name": "stdout",
          "text": [
            "3.5.5\n"
          ]
        }
      ]
    },
    {
      "cell_type": "code",
      "source": [
        "ride_request_schema = \"\"\"\n",
        "{\n",
        "  \"type\": \"record\",\n",
        "  \"name\": \"RideRequest\",\n",
        "  \"fields\": [\n",
        "    {\"name\": \"request_id\",               \"type\": \"string\"},\n",
        "    {\"name\": \"passenger_id\",             \"type\": \"string\"},\n",
        "    {\"name\": \"passenger_name\",           \"type\": \"string\"},\n",
        "    {\"name\": \"driver_name\",              \"type\": [\"null\", \"string\"]},\n",
        "    {\"name\": \"pickup_latitude\",          \"type\": \"double\"},\n",
        "    {\"name\": \"pickup_longitude\",         \"type\": \"double\"},\n",
        "    {\"name\": \"destination_latitude\",     \"type\": \"double\"},\n",
        "    {\"name\": \"destination_longitude\",    \"type\": \"double\"},\n",
        "    {\"name\": \"timestamp\",                \"type\": \"string\"},\n",
        "    {\"name\": \"vehicle_type\",             \"type\": \"string\"},\n",
        "    {\"name\": \"surge_multiplier\",         \"type\": \"float\"},\n",
        "    {\"name\": \"traffic_delay_multiplier\", \"type\": \"float\"},\n",
        "    {\"name\": \"pickup_distance_km\",       \"type\": \"float\"},\n",
        "    {\"name\": \"pickup_eta_min\",           \"type\": \"float\"},\n",
        "    {\"name\": \"distance_km\",              \"type\": \"float\"},\n",
        "    {\"name\": \"estimated_ride_time_min\",  \"type\": \"float\"},\n",
        "    {\"name\": \"fare_euros\",               \"type\": \"float\"},\n",
        "    {\"name\": \"payment_method\",           \"type\": \"string\"},\n",
        "    {\"name\": \"driver_rating_given\",      \"type\": \"float\"}\n",
        "  ]\n",
        "}\n",
        "\"\"\"\n",
        "\n",
        "driver_profile_schema = \"\"\"\n",
        "{\n",
        "  \"type\": \"record\",\n",
        "  \"name\": \"DriverProfile\",\n",
        "  \"fields\": [\n",
        "    {\"name\": \"driver_id\",   \"type\": \"string\"},\n",
        "    {\"name\": \"driver_name\", \"type\": \"string\"},\n",
        "    {\"name\": \"vehicle_type\",\"type\": \"string\"},\n",
        "    {\"name\": \"latitude\",    \"type\": \"double\"},\n",
        "    {\"name\": \"longitude\",   \"type\": \"double\"},\n",
        "    {\"name\": \"status\",      \"type\": \"string\"},\n",
        "    {\"name\": \"shift_start\", \"type\": \"int\"},\n",
        "    {\"name\": \"shift_duration\",\"type\": \"int\"}\n",
        "  ]\n",
        "}\n",
        "\"\"\"\n"
      ],
      "metadata": {
        "id": "R94d9dz-DPag"
      },
      "execution_count": null,
      "outputs": []
    },
    {
      "cell_type": "code",
      "source": [
        "# JARs needed for Hadoop-compatible access in Azure Storage\n",
        "jar_dependencies= \",\".join([\n",
        "    \"org.apache.spark:spark-sql-kafka-0-10_2.12:3.5.0\",\n",
        "    \"org.apache.spark:spark-avro_2.12:3.5.0\",\n",
        "    \"org.apache.hadoop:hadoop-azure:3.3.1\",          # Hadoop Azure connector\n",
        "    \"com.microsoft.azure:azure-storage:8.6.6\"        # Azure Blob SDK dependency\n",
        "])\n"
      ],
      "metadata": {
        "id": "Y-5AcIUpDRDl"
      },
      "execution_count": null,
      "outputs": []
    },
    {
      "cell_type": "code",
      "source": [
        "from pyspark.sql import SparkSession\n",
        "\n",
        "account_name = \"iesstsabbadbaa\"\n",
        "account_key  = \"YiUournbsPdwTGVanY1bNSsUcy1Z7NUNoty1fo0SDxcHoe6gzTxeq7BlIG4c3owhT1IIhim2IsHF+AStMie8jw==\"\n",
        "\n",
        "spark = SparkSession \\\n",
        "    .builder \\\n",
        "    .appName(\"RideHailingDualStream\") \\\n",
        "    .config(\"spark.jars.packages\",\n",
        "            \"org.apache.spark:spark-sql-kafka-0-10_2.12:3.5.0,\"\n",
        "            \"org.apache.spark:spark-avro_2.12:3.5.0,\"\n",
        "            \"org.apache.hadoop:hadoop-azure:3.3.1,\"\n",
        "            \"com.microsoft.azure:azure-storage:8.6.6\") \\\n",
        "    .config(f\"fs.azure.account.key.{account_name}.dfs.core.windows.net\", account_key) \\\n",
        "    .config(\"spark.sql.shuffle.partitions\", \"2\") \\\n",
        "    .getOrCreate()\n"
      ],
      "metadata": {
        "id": "-QlugNB0eeIa"
      },
      "execution_count": null,
      "outputs": []
    },
    {
      "cell_type": "code",
      "source": [
        "#from pyspark.sql import SparkSession\n",
        "#from pyspark.sql.avro.functions import from_avro\n",
        "\n",
        "# Create a Spark session\n",
        "\n",
        "\n",
        "#spark = SparkSession \\\n",
        "#    .builder \\\n",
        "#    .appName(\"StreamingAVROFromKafka\") \\\n",
        "#    .config(\"spark.streaming.stopGracefullyOnShutdown\", True) \\\n",
        "#    .config(\"spark.jars.packages\", jar_dependencies) \\\n",
        "#    .config(f\"fs.azure.account.key.{account_name}.blob.core.windows.net\", account_key) \\\n",
        "#    .config(\"spark.sql.shuffle.partitions\", 4) \\\n",
        "#    .master(\"local[*]\") \\\n",
        "#    .getOrCreate()\n",
        "\n"
      ],
      "metadata": {
        "id": "8HRBPIg7DtCl"
      },
      "execution_count": null,
      "outputs": []
    },
    {
      "cell_type": "code",
      "source": [
        "# Kafka Configuration for reading from Kafka/Event Hub\n",
        "# Kafka source will create a unique group id for each query automatically. The user can set the prefix of the automatically\n",
        "# generated group.id’s via the optional source option groupIdPrefix, default value is “spark-kafka-source”.\n",
        "# Consumer groups in Kafka/Event Hubs are typically defined explicitly by clients (Kafka consumers),\n",
        "# but Spark Structured Streaming manages consumer offsets internally, without explicitly registering or creating a visible consumer group within Azure Portal.\n",
        "# groupIdPrefix auto-generates consumer group IDs for Kafka internally, but these DO NOT appear explicitly as consumer groups within the Azure Portal under\n",
        "# Event Hub Consumer Groups.\n",
        "\n",
        "kafkaConfRides_Req = {\n",
        "    \"kafka.bootstrap.servers\": f\"{event_hub_namespace}.servicebus.windows.net:9093\",\n",
        "    # Below settins required if kafka is secured, for example when connecting to Azure Event Hubs:\n",
        "    \"kafka.sasl.mechanism\": \"PLAIN\",\n",
        "    \"kafka.security.protocol\": \"SASL_SSL\",\n",
        "    \"kafka.sasl.jaas.config\": f'org.apache.kafka.common.security.plain.PlainLoginModule required username=\"$ConnectionString\" password=\"{consumer_eventhub_connection_str}\";',\n",
        "\n",
        "    \"subscribe\": eventhub_name, # subscribe to the entire topic\n",
        "    \"startingOffsets\": \"latest\", # \"latest\", \"earliest\", '{\"topic_name: {\"0\": 62821}}'\n",
        "    # \"startingOffsets\": f'{{\"{eventhub_name}\": {{\"0\": 212350, \"1\": -1, \"2\": 212152, \"3\": -1}}}}', # \"latest\", \"earliest\", '{\"topic_name: {\"0\": 212350, \"1\": -1, \"2\": 212152, \"3\": -1}}' -1: latest, -2: earliest\n",
        "\n",
        "    # \"assign\": f'{{\"{eventhub_name}\": [0]}}', # to read from specific partitions use option: \"assign\": '{\"topic_name\": [0, 1]}'\n",
        "    # \"startingOffsets\": f'{{\"{eventhub_name}\": {{\"0\": 212350}}}}', # \"latest\", \"earliest\", '{\"topic_name: {\"0\": 62821}}' -1: latest, -2: earliest\n",
        "\n",
        "    \"enable.auto.commit\": \"true \",\n",
        "    \"groupIdPrefix\": \"Stream_Analytics_\",\n",
        "    \"auto.commit.interval.ms\": \"5000\"\n",
        "}\n",
        "\n",
        "# now passenger‐requests consumer config, pointing at the other hub\n",
        "kafkaConfDrivers = {\n",
        "    \"kafka.bootstrap.servers\": f\"{event_hub_namespace}.servicebus.windows.net:9093\",\n",
        "    \"kafka.sasl.mechanism\":     \"PLAIN\",\n",
        "    \"kafka.security.protocol\":  \"SASL_SSL\",\n",
        "    # this password must include EntityPath=group1_passenger_requests\n",
        "    \"kafka.sasl.jaas.config\":   f'org.apache.kafka.common.security.plain.PlainLoginModule required \\\n",
        "username=\"$ConnectionString\" \\\n",
        "password=\"{consumer_eventhub_connection_str_requests}\";',\n",
        "    \"subscribe\":                \"drivers-g8-v2\",\n",
        "    \"startingOffsets\":          \"latest\",\n",
        "    \"enable.auto.commit\":       \"true\",\n",
        "    \"groupIdPrefix\":            \"Stream_Analytics_\",\n",
        "    \"auto.commit.interval.ms\":  \"5000\"\n",
        "}\n",
        "\n",
        "print(kafkaConfRides_Req)\n",
        "print(kafkaConfDrivers)"
      ],
      "metadata": {
        "colab": {
          "base_uri": "https://localhost:8080/"
        },
        "id": "Tn6em2S_DzXc",
        "outputId": "76187457-d235-49cb-d60a-d1d3165e1d1a"
      },
      "execution_count": null,
      "outputs": [
        {
          "output_type": "stream",
          "name": "stdout",
          "text": [
            "{'kafka.bootstrap.servers': 'iesstsabbadbaa-grp-06-10.servicebus.windows.net:9093', 'kafka.sasl.mechanism': 'PLAIN', 'kafka.security.protocol': 'SASL_SSL', 'kafka.sasl.jaas.config': 'org.apache.kafka.common.security.plain.PlainLoginModule required username=\"$ConnectionString\" password=\"Endpoint=sb://iesstsabbadbaa-grp-06-10.servicebus.windows.net/;SharedAccessKeyName=ridesconsumer;SharedAccessKey=f82trXEoV+VyuCL2Xah3fSOB9JWoaG36L+AEhJ9CqaE=;EntityPath=ride-requests-g8-v2\";', 'subscribe': 'ride-requests-g8-v2', 'startingOffsets': 'latest', 'enable.auto.commit': 'true ', 'groupIdPrefix': 'Stream_Analytics_', 'auto.commit.interval.ms': '5000'}\n",
            "{'kafka.bootstrap.servers': 'iesstsabbadbaa-grp-06-10.servicebus.windows.net:9093', 'kafka.sasl.mechanism': 'PLAIN', 'kafka.security.protocol': 'SASL_SSL', 'kafka.sasl.jaas.config': 'org.apache.kafka.common.security.plain.PlainLoginModule required username=\"$ConnectionString\" password=\"Endpoint=sb://iesstsabbadbaa-grp-06-10.servicebus.windows.net/;SharedAccessKeyName=driversconsumer;SharedAccessKey=+xc2QnEHgB6Cr2L47Usi+OC+m3xwxLc7H+AEhNZAStI=;EntityPath=drivers-g8-v2\";', 'subscribe': 'drivers-g8-v2', 'startingOffsets': 'latest', 'enable.auto.commit': 'true', 'groupIdPrefix': 'Stream_Analytics_', 'auto.commit.interval.ms': '5000'}\n"
          ]
        }
      ]
    },
    {
      "cell_type": "code",
      "source": [
        "# Read from Event Hub using Kafka\n",
        "df_ride_request = spark \\\n",
        "    .readStream \\\n",
        "    .format(\"kafka\") \\\n",
        "    .options(**kafkaConfRides_Req)\n",
        "\n",
        "# Read from Event Hub using Kafka\n",
        "df_drivers = spark \\\n",
        "    .readStream \\\n",
        "    .format(\"kafka\") \\\n",
        "    .options(**kafkaConfDrivers)"
      ],
      "metadata": {
        "id": "e3_zf2StD2xF"
      },
      "execution_count": null,
      "outputs": []
    },
    {
      "cell_type": "code",
      "source": [
        "df_ride_request= df_ride_request.load()  # Start reading data from the specified Kafka topic\n",
        "df_ride_request.printSchema()"
      ],
      "metadata": {
        "colab": {
          "base_uri": "https://localhost:8080/"
        },
        "id": "3uZoAJJWD4qO",
        "outputId": "b36c4df3-cc86-42e1-e134-8c86e3763cf7"
      },
      "execution_count": null,
      "outputs": [
        {
          "output_type": "stream",
          "name": "stdout",
          "text": [
            "root\n",
            " |-- key: binary (nullable = true)\n",
            " |-- value: binary (nullable = true)\n",
            " |-- topic: string (nullable = true)\n",
            " |-- partition: integer (nullable = true)\n",
            " |-- offset: long (nullable = true)\n",
            " |-- timestamp: timestamp (nullable = true)\n",
            " |-- timestampType: integer (nullable = true)\n",
            "\n"
          ]
        }
      ]
    },
    {
      "cell_type": "code",
      "source": [
        "df_drivers= df_drivers.load()  # Start reading data from the specified Kafka topic\n",
        "df_drivers.printSchema()"
      ],
      "metadata": {
        "colab": {
          "base_uri": "https://localhost:8080/"
        },
        "id": "3_DviyS_-Bge",
        "outputId": "1c1b99eb-4ed2-4338-e758-7e899c4fb77a"
      },
      "execution_count": null,
      "outputs": [
        {
          "output_type": "stream",
          "name": "stdout",
          "text": [
            "root\n",
            " |-- key: binary (nullable = true)\n",
            " |-- value: binary (nullable = true)\n",
            " |-- topic: string (nullable = true)\n",
            " |-- partition: integer (nullable = true)\n",
            " |-- offset: long (nullable = true)\n",
            " |-- timestamp: timestamp (nullable = true)\n",
            " |-- timestampType: integer (nullable = true)\n",
            "\n"
          ]
        }
      ]
    },
    {
      "cell_type": "code",
      "source": [
        "from pyspark.sql.avro.functions import from_avro\n",
        "# Deserialize the AVRO messages from the value column\n",
        "df_ride_request = df_ride_request.select(from_avro(df_ride_request.value, ride_request_schema).alias(\"ride-requests-g8-v2\"))\n",
        "\n",
        "# Print the schema of the DataFrame\n",
        "df_ride_request.printSchema()"
      ],
      "metadata": {
        "colab": {
          "base_uri": "https://localhost:8080/"
        },
        "id": "CVD_bLpAD6Ay",
        "outputId": "0adf4eca-cdfb-4d2f-f954-a397021984c7"
      },
      "execution_count": null,
      "outputs": [
        {
          "output_type": "stream",
          "name": "stdout",
          "text": [
            "root\n",
            " |-- ride-requests-g8-v2: struct (nullable = true)\n",
            " |    |-- request_id: string (nullable = false)\n",
            " |    |-- passenger_id: string (nullable = false)\n",
            " |    |-- passenger_name: string (nullable = false)\n",
            " |    |-- driver_name: string (nullable = true)\n",
            " |    |-- pickup_latitude: double (nullable = false)\n",
            " |    |-- pickup_longitude: double (nullable = false)\n",
            " |    |-- destination_latitude: double (nullable = false)\n",
            " |    |-- destination_longitude: double (nullable = false)\n",
            " |    |-- timestamp: string (nullable = false)\n",
            " |    |-- vehicle_type: string (nullable = false)\n",
            " |    |-- surge_multiplier: float (nullable = false)\n",
            " |    |-- traffic_delay_multiplier: float (nullable = false)\n",
            " |    |-- pickup_distance_km: float (nullable = false)\n",
            " |    |-- pickup_eta_min: float (nullable = false)\n",
            " |    |-- distance_km: float (nullable = false)\n",
            " |    |-- estimated_ride_time_min: float (nullable = false)\n",
            " |    |-- fare_euros: float (nullable = false)\n",
            " |    |-- payment_method: string (nullable = false)\n",
            " |    |-- driver_rating_given: float (nullable = false)\n",
            "\n"
          ]
        }
      ]
    },
    {
      "cell_type": "code",
      "source": [
        "df_drivers = df_drivers.select(from_avro(df_drivers.value, driver_profile_schema).alias(\"drivers-g8-v2\"))\n",
        "\n",
        "# Print the schema of the DataFrame\n",
        "df_drivers.printSchema()"
      ],
      "metadata": {
        "colab": {
          "base_uri": "https://localhost:8080/"
        },
        "id": "IT9poj1N-czn",
        "outputId": "62c4dfc4-9b7e-47c4-8ee8-610716f42645"
      },
      "execution_count": null,
      "outputs": [
        {
          "output_type": "stream",
          "name": "stdout",
          "text": [
            "root\n",
            " |-- drivers-g8-v2: struct (nullable = true)\n",
            " |    |-- driver_id: string (nullable = false)\n",
            " |    |-- driver_name: string (nullable = false)\n",
            " |    |-- vehicle_type: string (nullable = false)\n",
            " |    |-- latitude: double (nullable = false)\n",
            " |    |-- longitude: double (nullable = false)\n",
            " |    |-- status: string (nullable = false)\n",
            " |    |-- shift_start: integer (nullable = false)\n",
            " |    |-- shift_duration: integer (nullable = false)\n",
            "\n"
          ]
        }
      ]
    },
    {
      "cell_type": "code",
      "source": [
        "from pyspark.sql.functions import col\n",
        "\n",
        "df_ride_request_flat = df_ride_request.select(\n",
        "    col(\"ride-requests-g8-v2.request_id\"),\n",
        "    col(\"ride-requests-g8-v2.passenger_id\"),\n",
        "    col(\"ride-requests-g8-v2.passenger_name\"),\n",
        "    col(\"ride-requests-g8-v2.driver_name\"),\n",
        "    col(\"ride-requests-g8-v2.pickup_latitude\"),\n",
        "    col(\"ride-requests-g8-v2.pickup_longitude\"),\n",
        "    col(\"ride-requests-g8-v2.destination_latitude\"),\n",
        "    col(\"ride-requests-g8-v2.destination_longitude\"),\n",
        "    col(\"ride-requests-g8-v2.timestamp\"),\n",
        "    col(\"ride-requests-g8-v2.vehicle_type\"),\n",
        "    col(\"ride-requests-g8-v2.surge_multiplier\"),\n",
        "    col(\"ride-requests-g8-v2.traffic_delay_multiplier\"),\n",
        "    col(\"ride-requests-g8-v2.pickup_distance_km\"),\n",
        "    col(\"ride-requests-g8-v2.pickup_eta_min\"),\n",
        "    col(\"ride-requests-g8-v2.distance_km\"),\n",
        "    col(\"ride-requests-g8-v2.estimated_ride_time_min\"),\n",
        "    col(\"ride-requests-g8-v2.fare_euros\"),\n",
        "    col(\"ride-requests-g8-v2.payment_method\"),\n",
        "    col(\"ride-requests-g8-v2.driver_rating_given\")\n",
        ")\n",
        "\n",
        "df_ride_request_flat.printSchema()\n"
      ],
      "metadata": {
        "colab": {
          "base_uri": "https://localhost:8080/"
        },
        "id": "Fy0VB-e3D7hN",
        "outputId": "40557f0a-db67-4e31-f784-47f3232da456"
      },
      "execution_count": null,
      "outputs": [
        {
          "output_type": "stream",
          "name": "stdout",
          "text": [
            "root\n",
            " |-- request_id: string (nullable = true)\n",
            " |-- passenger_id: string (nullable = true)\n",
            " |-- passenger_name: string (nullable = true)\n",
            " |-- driver_name: string (nullable = true)\n",
            " |-- pickup_latitude: double (nullable = true)\n",
            " |-- pickup_longitude: double (nullable = true)\n",
            " |-- destination_latitude: double (nullable = true)\n",
            " |-- destination_longitude: double (nullable = true)\n",
            " |-- timestamp: string (nullable = true)\n",
            " |-- vehicle_type: string (nullable = true)\n",
            " |-- surge_multiplier: float (nullable = true)\n",
            " |-- traffic_delay_multiplier: float (nullable = true)\n",
            " |-- pickup_distance_km: float (nullable = true)\n",
            " |-- pickup_eta_min: float (nullable = true)\n",
            " |-- distance_km: float (nullable = true)\n",
            " |-- estimated_ride_time_min: float (nullable = true)\n",
            " |-- fare_euros: float (nullable = true)\n",
            " |-- payment_method: string (nullable = true)\n",
            " |-- driver_rating_given: float (nullable = true)\n",
            "\n"
          ]
        }
      ]
    },
    {
      "cell_type": "code",
      "source": [
        "from pyspark.sql.functions import col\n",
        "\n",
        "df_drivers_flat = df_drivers.select(\n",
        "    col(\"drivers-g8-v2.driver_id\"),\n",
        "    col(\"drivers-g8-v2.driver_name\"),\n",
        "    col(\"drivers-g8-v2.vehicle_type\"),\n",
        "    col(\"drivers-g8-v2.latitude\"),\n",
        "    col(\"drivers-g8-v2.longitude\"),\n",
        "    col(\"drivers-g8-v2.status\"),\n",
        "    col(\"drivers-g8-v2.shift_start\"),\n",
        "    col(\"drivers-g8-v2.shift_duration\")\n",
        ")\n",
        "\n",
        "df_drivers_flat.printSchema()\n"
      ],
      "metadata": {
        "colab": {
          "base_uri": "https://localhost:8080/"
        },
        "id": "Nx3Qwswa_Fdd",
        "outputId": "7a3ecd74-5917-4396-cc6d-e9f4c90b8f76"
      },
      "execution_count": null,
      "outputs": [
        {
          "output_type": "stream",
          "name": "stdout",
          "text": [
            "root\n",
            " |-- driver_id: string (nullable = true)\n",
            " |-- driver_name: string (nullable = true)\n",
            " |-- vehicle_type: string (nullable = true)\n",
            " |-- latitude: double (nullable = true)\n",
            " |-- longitude: double (nullable = true)\n",
            " |-- status: string (nullable = true)\n",
            " |-- shift_start: integer (nullable = true)\n",
            " |-- shift_duration: integer (nullable = true)\n",
            "\n"
          ]
        }
      ]
    },
    {
      "cell_type": "code",
      "source": [
        "# Ride‑requests sink paths\n",
        "#ride_requests_output_path      = f\"wasbs://{container_name}@{account_name}.blob.core.windows.net/ride-requests-output/\"\n",
        "#ride_requests_checkpoint_path  = f\"wasbs://{container_name}@{account_name}.blob.core.windows.net/ride-requests-checkpoint/\"\n",
        "\n",
        "# Driver‑profiles sink paths\n",
        "#drivers_output_path            = f\"wasbs://{container_name}@{account_name}.blob.core.windows.net/drivers-output/\"\n",
        "#drivers_checkpoint_path        = f\"wasbs://{container_name}@{account_name}.blob.core.windows.net/drivers-checkpoint/\"\n",
        "\n",
        "#ride_requests_output_path, ride_requests_checkpoint_path, drivers_output_path, drivers_checkpoint_path"
      ],
      "metadata": {
        "id": "Fmvvo_bNEB3i"
      },
      "execution_count": null,
      "outputs": []
    },
    {
      "cell_type": "code",
      "source": [
        "ride_requests_output_path = f\"abfss://{container_name}@{account_name}.dfs.core.windows.net/ride-requests-output/\"\n",
        "ride_requests_checkpoint_path = f\"abfss://{container_name}@{account_name}.dfs.core.windows.net/ride-requests-checkpoint/\"\n",
        "\n",
        "drivers_output_path   = f\"abfss://{container_name}@{account_name}.dfs.core.windows.net/drivers-output/\"\n",
        "drivers_checkpoint_path = f\"abfss://{container_name}@{account_name}.dfs.core.windows.net/drivers-checkpoint/\"\n",
        "ride_requests_output_path, ride_requests_checkpoint_path, drivers_output_path, drivers_checkpoint_path"
      ],
      "metadata": {
        "id": "Z7QjqErGcLcI",
        "colab": {
          "base_uri": "https://localhost:8080/"
        },
        "outputId": "40165273-fcc7-4289-9a1e-6faf04402aba"
      },
      "execution_count": null,
      "outputs": [
        {
          "output_type": "execute_result",
          "data": {
            "text/plain": [
              "('abfss://streamed-data-group8@iesstsabbadbaa.dfs.core.windows.net/ride-requests-output/',\n",
              " 'abfss://streamed-data-group8@iesstsabbadbaa.dfs.core.windows.net/ride-requests-checkpoint/',\n",
              " 'abfss://streamed-data-group8@iesstsabbadbaa.dfs.core.windows.net/drivers-output/',\n",
              " 'abfss://streamed-data-group8@iesstsabbadbaa.dfs.core.windows.net/drivers-checkpoint/')"
            ]
          },
          "metadata": {},
          "execution_count": 13
        }
      ]
    },
    {
      "cell_type": "code",
      "source": [
        "# Ride‑requests streaming write (con nombre de query)\n",
        "#ride_requests_query = df_ride_request_flat.writeStream \\\n",
        "#    .format(\"parquet\") \\\n",
        "#    .option(\"checkpointLocation\", ride_requests_checkpoint_path) \\\n",
        "#    .option(\"path\", ride_requests_output_path) \\\n",
        "#    .queryName(\"ride_requests_to_blob\") \\\n",
        "#    .trigger(processingTime=\"5 seconds\") \\\n",
        "#    .start()\n",
        "\n",
        "# Driver‑profiles streaming write (con nombre de query)\n",
        "#drivers_query = df_drivers_flat.writeStream \\\n",
        "#    .format(\"parquet\") \\\n",
        "#    .option(\"checkpointLocation\", drivers_checkpoint_path) \\\n",
        "#    .option(\"path\", drivers_output_path) \\\n",
        "#    .queryName(\"drivers_to_blob\") \\\n",
        "#    .trigger(processingTime=\"5 seconds\") \\\n",
        "#    .start()\n"
      ],
      "metadata": {
        "id": "9vAaH3-HEE1R"
      },
      "execution_count": null,
      "outputs": []
    },
    {
      "cell_type": "code",
      "source": [
        "# Get the list of active streaming queries\n",
        "#active_queries = spark.streams.active\n",
        "\n",
        "# Print details about each active query\n",
        "#for query in active_queries:\n",
        "#    print(f\"Query Name: {query.name}\")\n",
        "#    print(f\"Query ID: {query.id}\")\n",
        "#    print(f\"Query Status: {query.status}\")\n",
        "#    print(f\"Is Query Active: {query.isActive}\")\n",
        "#    print(\"-\" * 50)\n"
      ],
      "metadata": {
        "id": "R04VT-PvEdpN"
      },
      "execution_count": null,
      "outputs": []
    },
    {
      "cell_type": "code",
      "source": [
        "ride_requests_query = df_ride_request_flat.writeStream \\\n",
        "    .format(\"parquet\") \\\n",
        "    .option(\"checkpointLocation\", ride_requests_checkpoint_path) \\\n",
        "    .option(\"path\", ride_requests_output_path) \\\n",
        "    .queryName(\"ride_requests_to_blob\") \\\n",
        "    .trigger(processingTime=\"5 seconds\") \\\n",
        "    .start()\n",
        "\n",
        "\n",
        "drivers_query = df_drivers_flat.writeStream \\\n",
        "    .format(\"parquet\") \\\n",
        "    .option(\"checkpointLocation\", drivers_checkpoint_path) \\\n",
        "    .option(\"path\", drivers_output_path) \\\n",
        "    .queryName(\"drivers_to_blob\") \\\n",
        "    .trigger(processingTime=\"5 seconds\") \\\n",
        "    .start()\n",
        "\n",
        "import time\n",
        "for i in range(24):\n",
        "    time.sleep(5)\n",
        "    print(f\"  ⏳ {5*(i+1)}s transcurridos, queries activas:\",\n",
        "          [q.name for q in spark.streams.active])\n"
      ],
      "metadata": {
        "colab": {
          "base_uri": "https://localhost:8080/"
        },
        "id": "A79X529-jWAE",
        "outputId": "0a7cda89-c9fc-4709-b18f-fc746769695a"
      },
      "execution_count": null,
      "outputs": [
        {
          "output_type": "stream",
          "name": "stdout",
          "text": [
            "  ⏳ 5s transcurridos, queries activas: ['ride_requests_to_blob', 'drivers_to_blob']\n",
            "  ⏳ 10s transcurridos, queries activas: ['ride_requests_to_blob', 'drivers_to_blob']\n",
            "  ⏳ 15s transcurridos, queries activas: ['ride_requests_to_blob', 'drivers_to_blob']\n",
            "  ⏳ 20s transcurridos, queries activas: ['ride_requests_to_blob', 'drivers_to_blob']\n",
            "  ⏳ 25s transcurridos, queries activas: ['ride_requests_to_blob', 'drivers_to_blob']\n",
            "  ⏳ 30s transcurridos, queries activas: ['ride_requests_to_blob', 'drivers_to_blob']\n",
            "  ⏳ 35s transcurridos, queries activas: ['ride_requests_to_blob', 'drivers_to_blob']\n",
            "  ⏳ 40s transcurridos, queries activas: ['ride_requests_to_blob', 'drivers_to_blob']\n",
            "  ⏳ 45s transcurridos, queries activas: ['ride_requests_to_blob', 'drivers_to_blob']\n",
            "  ⏳ 50s transcurridos, queries activas: ['ride_requests_to_blob', 'drivers_to_blob']\n",
            "  ⏳ 55s transcurridos, queries activas: ['ride_requests_to_blob', 'drivers_to_blob']\n",
            "  ⏳ 60s transcurridos, queries activas: ['ride_requests_to_blob', 'drivers_to_blob']\n",
            "  ⏳ 65s transcurridos, queries activas: ['ride_requests_to_blob', 'drivers_to_blob']\n",
            "  ⏳ 70s transcurridos, queries activas: ['ride_requests_to_blob', 'drivers_to_blob']\n",
            "  ⏳ 75s transcurridos, queries activas: ['ride_requests_to_blob', 'drivers_to_blob']\n",
            "  ⏳ 80s transcurridos, queries activas: ['ride_requests_to_blob', 'drivers_to_blob']\n",
            "  ⏳ 85s transcurridos, queries activas: ['ride_requests_to_blob', 'drivers_to_blob']\n",
            "  ⏳ 90s transcurridos, queries activas: ['ride_requests_to_blob', 'drivers_to_blob']\n",
            "  ⏳ 95s transcurridos, queries activas: ['ride_requests_to_blob', 'drivers_to_blob']\n",
            "  ⏳ 100s transcurridos, queries activas: ['ride_requests_to_blob', 'drivers_to_blob']\n",
            "  ⏳ 105s transcurridos, queries activas: ['ride_requests_to_blob', 'drivers_to_blob']\n",
            "  ⏳ 110s transcurridos, queries activas: ['ride_requests_to_blob', 'drivers_to_blob']\n",
            "  ⏳ 115s transcurridos, queries activas: ['ride_requests_to_blob', 'drivers_to_blob']\n",
            "  ⏳ 120s transcurridos, queries activas: ['ride_requests_to_blob', 'drivers_to_blob']\n"
          ]
        }
      ]
    },
    {
      "cell_type": "code",
      "source": [
        "# Lee todo el directorio Parquet\n",
        "df = spark.read.parquet(ride_requests_output_path)\n",
        "\n",
        "# Muestra las primeras filas de forma legible\n",
        "df.show(20, truncate=False)\n",
        "\n",
        "# O, si quieres extraer a Pandas:\n",
        "#pdf = df.limit(100).toPandas()\n"
      ],
      "metadata": {
        "id": "zmBrh5v_p6jq",
        "colab": {
          "base_uri": "https://localhost:8080/"
        },
        "outputId": "0d2aa6c7-8627-4a08-c02c-e240d20f5b20"
      },
      "execution_count": null,
      "outputs": [
        {
          "output_type": "stream",
          "name": "stdout",
          "text": [
            "+------------------------------------+------------------------------------+---------------------------------+------------------------+---------------+----------------+--------------------+---------------------+-------------------+------------+----------------+------------------------+------------------+--------------+-----------+-----------------------+----------+--------------+-------------------+\n",
            "|request_id                          |passenger_id                        |passenger_name                   |driver_name             |pickup_latitude|pickup_longitude|destination_latitude|destination_longitude|timestamp          |vehicle_type|surge_multiplier|traffic_delay_multiplier|pickup_distance_km|pickup_eta_min|distance_km|estimated_ride_time_min|fare_euros|payment_method|driver_rating_given|\n",
            "+------------------------------------+------------------------------------+---------------------------------+------------------------+---------------+----------------+--------------------+---------------------+-------------------+------------+----------------+------------------------+------------------+--------------+-----------+-----------------------+----------+--------------+-------------------+\n",
            "|91fa8174-b527-4d1b-b0b3-87d0d45f357a|f120be13-aceb-4e49-bac7-f43554bcbee4|Nicolás de Ayuso                 |Leonel Losa Zaragoza    |40.416681      |-3.6969         |40.417607           |-3.681               |2025-04-14T18:35:00|XL          |2.2             |2.98                    |2.65              |5.3           |1.35       |8.1                    |12.37     |Digital Wallet|4.42               |\n",
            "|0e80bd40-a124-43b1-a6ef-33e7e6bf73c2|df235835-3770-426b-b2b0-af44c080ae51|Adelardo Gómez-Quintero          |Dominga Plaza Ávila     |40.431758      |-3.689533       |40.416567           |-3.715711            |2025-04-14T18:35:00|Standard    |2.2             |2.98                    |3.99              |8.0           |2.79       |16.6                   |19.34     |Credit Card   |4.7                |\n",
            "|4548a94f-6f2f-4526-9bf7-5b8826f0f684|f7b8cc2e-eee3-45de-af7a-1a0f604e6960|Blanca Velázquez Abad            |Visitación Tello-Ramirez|40.439363      |-3.714955       |40.428773           |-3.704564            |2025-04-14T18:35:00|Electric    |2.2             |2.98                    |3.17              |6.3           |1.47       |8.8                    |14.5      |Credit Card   |4.68               |\n",
            "|51d94b77-290a-4516-b5a9-e8f153961276|9029cf28-1710-474e-a360-d4680857e1bc|Gilberto Marí Briones            |Jordi de Benavent       |40.433192      |-3.701268       |40.404886           |-3.677373            |2025-04-14T18:35:00|Luxury      |2.2             |2.98                    |1.71              |3.4           |3.74       |22.3                   |33.15     |Cash          |5.0                |\n",
            "|6f5e4217-13ac-44a5-87c0-6b1513211644|1ff56350-3f3d-47c8-9b91-5c387a1440c9|Constanza Marti Puerta           |Charo Berenguer Coronado|40.41614       |-3.695797       |40.413295           |-3.708512            |2025-04-14T18:35:00|Luxury      |2.2             |2.98                    |1.74              |3.5           |1.12       |6.7                    |14.68     |Digital Wallet|4.21               |\n",
            "|75a0162b-9cf6-4d27-8b7e-8e8425f69e21|b1809812-874b-4803-9192-a10c66af3835|Cristóbal Villena-Benavent       |Odalys Lillo Alcolea    |40.434584      |-3.676261       |40.409657           |-3.671385            |2025-04-14T18:35:00|Standard    |2.2             |2.98                    |3.63              |7.3           |2.8        |16.7                   |19.03     |Voucher       |4.31               |\n",
            "|a85bcb7a-855d-44a1-b391-8021d9053788|27cb2151-9ed6-462c-84b6-f500c5decc2f|Alejandra Montoya Benavides      |Piedad Cózar Laguna     |40.423172      |-3.673288       |40.408239           |-3.715009            |2025-04-14T18:40:00|Electric    |2.28            |1.77                    |1.69              |3.4           |3.91       |13.8                   |24.67     |Digital Wallet|4.55               |\n",
            "|e1c91b85-1c49-4b2b-9014-1243da4e548f|870d82c9-7754-4ede-8c51-04b0c8cc32b2|Estefanía Izquierdo Alemany      |Gabino Cáceres Agudo    |40.423791      |-3.708068       |40.421332           |-3.713189            |2025-04-14T18:40:00|Luxury      |2.28            |1.77                    |2.7               |5.4           |0.51       |1.8                    |11.05     |Credit Card   |4.69               |\n",
            "|295aef29-0a8d-4448-96a8-58f99df5174f|d5b547e4-48a9-4d53-920f-4e76495d6004|Encarnacion Sureda Casado        |Gabino Cáceres Agudo    |40.407349      |-3.712984       |40.400094           |-3.685361            |2025-04-14T18:40:00|XL          |2.28            |1.77                    |4.27              |8.5           |2.48       |8.8                    |18.05     |Digital Wallet|4.66               |\n",
            "|ec9ac1f9-f6f9-4eb5-8e08-71bac1cf02a4|90a8941f-70ca-4f10-8262-8e30a99cc117|Geraldo Conde Larrañaga          |Rafa Macías-Sierra      |40.437448      |-3.68254        |40.421741           |-3.695783            |2025-04-14T18:40:00|Standard    |2.28            |1.77                    |2.8               |5.6           |2.07       |7.3                    |13.66     |Cash          |4.91               |\n",
            "|71180884-adcb-4fa1-bdbe-b2a7da3b5d05|8dbe1bdb-8410-4844-bcb4-7ceba9ea8875|Rebeca Rivero Palacios           |Charo Berenguer Coronado|40.413951      |-3.711329       |40.429387           |-3.694562            |2025-04-14T18:40:00|Luxury      |2.28            |1.77                    |0.4               |0.8           |2.23       |7.9                    |19.96     |Digital Wallet|4.44               |\n",
            "|4c697355-5a8a-402a-8cd2-675ae76964a3|38cb4dce-61f9-4fdf-8720-c77494c0b8d1|Severiano Artemio Cañizares Agudo|Ana Belén Peláez Cabañas|40.42496       |-3.716385       |40.409495           |-3.699344            |2025-04-14T18:40:00|XL          |2.28            |1.77                    |2.36              |4.7           |2.25       |7.9                    |15.1      |Digital Wallet|4.76               |\n",
            "|3396dda8-5821-4be0-a373-1da471c3ddfe|cb7897e1-b7df-4e97-ba57-d6c47aa5290c|Felisa Coll Sola                 |Adela Campoy Camps      |40.427745      |-3.681043       |40.412551           |-3.696341            |2025-04-14T18:40:00|XL          |2.28            |1.77                    |1.45              |2.9           |2.13       |7.5                    |13.69     |Voucher       |4.66               |\n",
            "|04b448dd-2969-4fdf-9b0f-bd4fe3606897|7357ef71-9c3d-4e23-9ed3-b88c888e9528|Gustavo Delgado Estevez          |Leticia Pedro Espinosa  |40.411218      |-3.705526       |40.423814           |-3.718712            |2025-04-14T18:40:00|XL          |2.28            |1.77                    |3.58              |7.2           |1.79       |6.3                    |14.35     |Digital Wallet|4.73               |\n",
            "|2e9c7092-9978-401a-948e-bdc7397a9c24|42bcdc7f-4085-40d6-b50a-2fb52f387176|Lucía Almansa Galvez             |Leticia Pedro Espinosa  |40.413852      |-3.715558       |40.408492           |-3.715588            |2025-04-14T18:40:00|Electric    |2.28            |1.77                    |3.94              |7.9           |0.6        |2.1                    |9.98      |Digital Wallet|4.72               |\n",
            "|ea540e4a-bf51-46c4-b24e-56d8843d0f6c|2ae6feb4-a28e-4c06-93d2-0d77a0e522d5|Joel Pellicer Hervia             |Olalla Guillen-Mesa     |40.427475      |-3.718551       |40.437784           |-3.69252             |2025-04-14T18:45:00|Luxury      |2.5             |2.95                    |1.36              |2.7           |2.49       |14.7                   |25.7      |Digital Wallet|4.89               |\n",
            "|f092cd4b-b7d4-429c-bcee-51673c413e9b|6b9b39c5-29dd-429e-bfca-34bd3f562c99|Eligio Dominguez Lasa            |Adelina Santiago Asensio|40.431217      |-3.688339       |40.420563           |-3.675727            |2025-04-14T18:45:00|Standard    |2.5             |2.95                    |2.89              |5.8           |1.6        |9.4                    |13.49     |Digital Wallet|4.91               |\n",
            "|7a04cb7f-a6c5-4d74-89e7-39e517105ecc|1e047bac-5aa9-4d45-aa63-19c1f1bf6953|Mayte Durán Cobos                |Gabino Cáceres Agudo    |40.410343      |-3.680946       |40.411844           |-3.693884            |2025-04-14T18:45:00|XL          |2.5             |2.95                    |3.0               |6.0           |1.11       |6.6                    |11.98     |Digital Wallet|4.58               |\n",
            "|18df1a7c-f092-4e75-bf22-01f89b9a9617|9be0bc61-49e7-41d7-9c95-368d93fc30aa|Socorro Aitana Alegria Belmonte  |Charo Berenguer Coronado|40.400626      |-3.670012       |40.43723            |-3.682984            |2025-04-14T18:45:00|Electric    |2.5             |2.95                    |4.18              |8.4           |4.21       |24.8                   |33.2      |Digital Wallet|4.71               |\n",
            "|26510eac-0ba0-481f-bf23-447a70622312|d5c4e295-9a7e-4cdb-b7cb-27fc402e8f90|Charo Macías Alcalá              |Charo Berenguer Coronado|40.415743      |-3.703199       |40.416426           |-3.718195            |2025-04-14T18:45:00|Standard    |2.5             |2.95                    |1.11              |2.2           |1.28       |7.5                    |10.19     |Credit Card   |4.08               |\n",
            "+------------------------------------+------------------------------------+---------------------------------+------------------------+---------------+----------------+--------------------+---------------------+-------------------+------------+----------------+------------------------+------------------+--------------+-----------+-----------------------+----------+--------------+-------------------+\n",
            "only showing top 20 rows\n",
            "\n"
          ]
        }
      ]
    },
    {
      "cell_type": "markdown",
      "source": [
        "# ANALYSIS"
      ],
      "metadata": {
        "id": "smULvE2ydzsC"
      }
    },
    {
      "cell_type": "code",
      "source": [
        "import os\n",
        "import subprocess\n",
        "\n",
        "# Fetch the latest Spark 3.x.x version\n",
        "# curl -s https://downloads.apache.org/spark/ → Fetches the Spark download page.\n",
        "# grep -o 'spark-3\\.[0-9]\\+\\.[0-9]\\+' → Extracts only versions that start with spark-3. (ignoring Spark 4.x if it exists in the future).\n",
        "# sort -V → Sorts the versions numerically.\n",
        "# tail -1 → Selects the latest version.\n",
        "spark_version = subprocess.run(\n",
        "    \"curl -s https://downloads.apache.org/spark/ | grep -o 'spark-3\\\\.[0-9]\\\\+\\\\.[0-9]\\\\+' | sort -V | tail -1\",\n",
        "    shell=True, capture_output=True, text=True\n",
        ").stdout.strip()\n",
        "\n",
        "spark_version"
      ],
      "metadata": {
        "id": "A5cwipZCq2zt",
        "colab": {
          "base_uri": "https://localhost:8080/",
          "height": 36
        },
        "outputId": "1e7c4854-a0ae-4d5f-e47c-756da52248e8"
      },
      "execution_count": null,
      "outputs": [
        {
          "output_type": "execute_result",
          "data": {
            "text/plain": [
              "'spark-3.5.5'"
            ],
            "application/vnd.google.colaboratory.intrinsic+json": {
              "type": "string"
            }
          },
          "metadata": {},
          "execution_count": 1
        }
      ]
    },
    {
      "cell_type": "code",
      "source": [
        "spark_release=spark_version\n",
        "hadoop_version='hadoop3'\n",
        "\n",
        "import os, time\n",
        "start=time.time()\n",
        "os.environ['SPARK_RELEASE']=spark_release\n",
        "os.environ['HADOOP_VERSION']=hadoop_version\n",
        "os.environ[\"JAVA_HOME\"] = \"/usr/lib/jvm/java-8-openjdk-amd64\"\n",
        "os.environ[\"SPARK_HOME\"] = f\"/content/{spark_release}-bin-{hadoop_version}\""
      ],
      "metadata": {
        "id": "h0mALvf3q6JD"
      },
      "execution_count": null,
      "outputs": []
    },
    {
      "cell_type": "code",
      "source": [
        "if True:\n",
        "  # Run below commands in google colab\n",
        "  !apt-get install openjdk-8-jdk-headless -qq > /dev/null # install Java8\n",
        "  !wget -q http://apache.osuosl.org/spark/${SPARK_RELEASE}/${SPARK_RELEASE}-bin-${HADOOP_VERSION}.tgz # download spark-3.3.X\n",
        "  !tar xf ${SPARK_RELEASE}-bin-${HADOOP_VERSION}.tgz # unzip it\n",
        "\n",
        "  !pip install -q findspark # install findspark\n",
        "  # findspark find your Spark Distribution and sets necessary environment variables"
      ],
      "metadata": {
        "id": "HQ82HmX4q8_H"
      },
      "execution_count": null,
      "outputs": []
    },
    {
      "cell_type": "code",
      "source": [
        "import findspark\n",
        "findspark.init()\n",
        "\n",
        "# Check the pyspark version\n",
        "import pyspark\n",
        "print(pyspark.__version__)"
      ],
      "metadata": {
        "id": "pX8inl7Uq91X",
        "colab": {
          "base_uri": "https://localhost:8080/"
        },
        "outputId": "e7e5c273-7d33-463a-c86a-9327ad962ae8"
      },
      "execution_count": null,
      "outputs": [
        {
          "output_type": "stream",
          "name": "stdout",
          "text": [
            "3.5.5\n"
          ]
        }
      ]
    },
    {
      "cell_type": "code",
      "source": [
        "# 1) SparkSession + Azure Blob config\n",
        "from pyspark.sql import SparkSession\n",
        "from pyspark.sql.functions import col, window, count, avg\n",
        "\n",
        "account_name = \"iesstsabbadbaa\"\n",
        "account_key  = \"YiUournbsPdwTGVanY1bNSsUcy1Z7NUNoty1fo0SDxcHoe6gzTxeq7BlIG4c3owhT1IIhim2IsHF+AStMie8jw==\"\n",
        "container_name = \"streamed-data-group8\"\n",
        "\n",
        "spark = SparkSession \\\n",
        "    .builder \\\n",
        "    .appName(\"RideHailingAnalytics\") \\\n",
        "    .config(\"spark.jars.packages\",\n",
        "        \"org.apache.spark:spark-sql-kafka-0-10_2.12:3.5.0,\"\n",
        "        \"org.apache.spark:spark-avro_2.12:3.5.0,\"\n",
        "        \"org.apache.hadoop:hadoop-azure:3.3.1,\"\n",
        "        \"com.microsoft.azure:azure-storage:8.6.6\") \\\n",
        "    .config(f\"fs.azure.account.key.{account_name}.dfs.core.windows.net\", account_key) \\\n",
        "    .getOrCreate()\n"
      ],
      "metadata": {
        "id": "wUUCWPS5gC8z"
      },
      "execution_count": null,
      "outputs": []
    },
    {
      "cell_type": "code",
      "source": [
        "\n",
        "# 2) Paths to your Parquet output on ADLS Gen2\n",
        "ride_requests_output_path = f\"abfss://{container_name}@{account_name}.dfs.core.windows.net/ride-requests-output/\"\n",
        "\n",
        "# 3) Quick batch‐mode sanity check\n",
        "rides_df = spark.read.parquet(ride_requests_output_path)\n",
        "rides_df.printSchema()\n",
        "rides_df.show(5, truncate=False)"
      ],
      "metadata": {
        "colab": {
          "base_uri": "https://localhost:8080/"
        },
        "id": "jueHk_BugLrd",
        "outputId": "7ab67633-6852-46b8-dba3-571380b966ac"
      },
      "execution_count": null,
      "outputs": [
        {
          "output_type": "stream",
          "name": "stdout",
          "text": [
            "root\n",
            " |-- request_id: string (nullable = true)\n",
            " |-- passenger_id: string (nullable = true)\n",
            " |-- passenger_name: string (nullable = true)\n",
            " |-- driver_name: string (nullable = true)\n",
            " |-- pickup_latitude: double (nullable = true)\n",
            " |-- pickup_longitude: double (nullable = true)\n",
            " |-- destination_latitude: double (nullable = true)\n",
            " |-- destination_longitude: double (nullable = true)\n",
            " |-- timestamp: string (nullable = true)\n",
            " |-- vehicle_type: string (nullable = true)\n",
            " |-- surge_multiplier: float (nullable = true)\n",
            " |-- traffic_delay_multiplier: float (nullable = true)\n",
            " |-- pickup_distance_km: float (nullable = true)\n",
            " |-- pickup_eta_min: float (nullable = true)\n",
            " |-- distance_km: float (nullable = true)\n",
            " |-- estimated_ride_time_min: float (nullable = true)\n",
            " |-- fare_euros: float (nullable = true)\n",
            " |-- payment_method: string (nullable = true)\n",
            " |-- driver_rating_given: float (nullable = true)\n",
            "\n",
            "+------------------------------------+------------------------------------+-----------------------+------------------------+---------------+----------------+--------------------+---------------------+-------------------+------------+----------------+------------------------+------------------+--------------+-----------+-----------------------+----------+--------------+-------------------+\n",
            "|request_id                          |passenger_id                        |passenger_name         |driver_name             |pickup_latitude|pickup_longitude|destination_latitude|destination_longitude|timestamp          |vehicle_type|surge_multiplier|traffic_delay_multiplier|pickup_distance_km|pickup_eta_min|distance_km|estimated_ride_time_min|fare_euros|payment_method|driver_rating_given|\n",
            "+------------------------------------+------------------------------------+-----------------------+------------------------+---------------+----------------+--------------------+---------------------+-------------------+------------+----------------+------------------------+------------------+--------------+-----------+-----------------------+----------+--------------+-------------------+\n",
            "|91fa8174-b527-4d1b-b0b3-87d0d45f357a|f120be13-aceb-4e49-bac7-f43554bcbee4|Nicolás de Ayuso       |Leonel Losa Zaragoza    |40.416681      |-3.6969         |40.417607           |-3.681               |2025-04-14T18:35:00|XL          |2.2             |2.98                    |2.65              |5.3           |1.35       |8.1                    |12.37     |Digital Wallet|4.42               |\n",
            "|0e80bd40-a124-43b1-a6ef-33e7e6bf73c2|df235835-3770-426b-b2b0-af44c080ae51|Adelardo Gómez-Quintero|Dominga Plaza Ávila     |40.431758      |-3.689533       |40.416567           |-3.715711            |2025-04-14T18:35:00|Standard    |2.2             |2.98                    |3.99              |8.0           |2.79       |16.6                   |19.34     |Credit Card   |4.7                |\n",
            "|4548a94f-6f2f-4526-9bf7-5b8826f0f684|f7b8cc2e-eee3-45de-af7a-1a0f604e6960|Blanca Velázquez Abad  |Visitación Tello-Ramirez|40.439363      |-3.714955       |40.428773           |-3.704564            |2025-04-14T18:35:00|Electric    |2.2             |2.98                    |3.17              |6.3           |1.47       |8.8                    |14.5      |Credit Card   |4.68               |\n",
            "|51d94b77-290a-4516-b5a9-e8f153961276|9029cf28-1710-474e-a360-d4680857e1bc|Gilberto Marí Briones  |Jordi de Benavent       |40.433192      |-3.701268       |40.404886           |-3.677373            |2025-04-14T18:35:00|Luxury      |2.2             |2.98                    |1.71              |3.4           |3.74       |22.3                   |33.15     |Cash          |5.0                |\n",
            "|6f5e4217-13ac-44a5-87c0-6b1513211644|1ff56350-3f3d-47c8-9b91-5c387a1440c9|Constanza Marti Puerta |Charo Berenguer Coronado|40.41614       |-3.695797       |40.413295           |-3.708512            |2025-04-14T18:35:00|Luxury      |2.2             |2.98                    |1.74              |3.5           |1.12       |6.7                    |14.68     |Digital Wallet|4.21               |\n",
            "+------------------------------------+------------------------------------+-----------------------+------------------------+---------------+----------------+--------------------+---------------------+-------------------+------------+----------------+------------------------+------------------+--------------+-----------+-----------------------+----------+--------------+-------------------+\n",
            "only showing top 5 rows\n",
            "\n"
          ]
        }
      ]
    },
    {
      "cell_type": "code",
      "source": [
        "# 2b) Path to your Driver‑profiles Parquet output on ADLS Gen2\n",
        "drivers_output_path = f\"abfss://{container_name}@{account_name}.dfs.core.windows.net/drivers-output/\"\n",
        "\n",
        "# 3b) Quick batch‑mode sanity check for drivers\n",
        "drivers_df = spark.read.parquet(drivers_output_path)\n",
        "drivers_df.printSchema()\n",
        "drivers_df.show(5, truncate=False)\n"
      ],
      "metadata": {
        "colab": {
          "base_uri": "https://localhost:8080/"
        },
        "id": "lDJubcCJhwO_",
        "outputId": "586f5ca4-29c8-4a22-bbbb-2c05bde82b26"
      },
      "execution_count": null,
      "outputs": [
        {
          "output_type": "stream",
          "name": "stdout",
          "text": [
            "root\n",
            " |-- driver_id: string (nullable = true)\n",
            " |-- driver_name: string (nullable = true)\n",
            " |-- vehicle_type: string (nullable = true)\n",
            " |-- latitude: double (nullable = true)\n",
            " |-- longitude: double (nullable = true)\n",
            " |-- status: string (nullable = true)\n",
            " |-- shift_start: integer (nullable = true)\n",
            " |-- shift_duration: integer (nullable = true)\n",
            "\n",
            "+------------------------------------+----------------------+------------+---------+---------+---------+-----------+--------------+\n",
            "|driver_id                           |driver_name           |vehicle_type|latitude |longitude|status   |shift_start|shift_duration|\n",
            "+------------------------------------+----------------------+------------+---------+---------+---------+-----------+--------------+\n",
            "|9adfb4ec-f1d0-49f4-985f-55c3995ae05b|Eusebio Bernal Vara   |Standard    |40.428378|-3.69141 |available|12         |8             |\n",
            "|5b172182-b625-4918-ad14-56a0d178ecf4|Dominga Plaza Ávila   |Luxury      |40.437566|-3.678017|available|6          |8             |\n",
            "|f7db8a92-6ece-4b26-9d3d-889077bb7b85|Alex Salvà Quintero   |Luxury      |40.439991|-3.686857|available|6          |8             |\n",
            "|7f3c382f-3c35-4c80-9b8d-80cc5f78073f|Odalys Casanova Cerdán|Electric    |40.415592|-3.700129|available|6          |8             |\n",
            "|162f9043-63eb-40eb-816c-985f079affad|Leticia Pedro Espinosa|Electric    |40.410239|-3.692022|available|18         |8             |\n",
            "+------------------------------------+----------------------+------------+---------+---------+---------+-----------+--------------+\n",
            "only showing top 5 rows\n",
            "\n"
          ]
        }
      ]
    },
    {
      "cell_type": "code",
      "source": [
        "!pip install azure-storage-blob"
      ],
      "metadata": {
        "id": "qXamh9BKrTHD"
      },
      "execution_count": null,
      "outputs": []
    },
    {
      "cell_type": "code",
      "source": [
        "from azure.storage.blob import BlobServiceClient\n",
        "\n",
        "AZURE_STORAGE_CONNECTION_STRING = (\n",
        "    \"DefaultEndpointsProtocol=https;\"\n",
        "    \"AccountName=iesstsabbadbaa;\"\n",
        "    \"AccountKey=YiUournbsPdwTGVanY1bNSsUcy1Z7NUNoty1fo0SDxcHoe6gzTxeq7BlIG4c3owhT1IIhim2IsHF+AStMie8jw==;\"\n",
        "    \"EndpointSuffix=core.windows.net\"\n",
        ")\n",
        "CONTAINER = \"streamed-data-group8\"\n",
        "svc = BlobServiceClient.from_connection_string(AZURE_STORAGE_CONNECTION_STRING)\n",
        "ctr = svc.get_container_client(CONTAINER)\n",
        "\n",
        "print(\"=== ride-requests-output ===\")\n",
        "for b in ctr.list_blobs(name_starts_with=\"ride-requests-output/\"):\n",
        "    print(\" \", b.name)\n",
        "\n",
        "print(\"\\n=== drivers-output ===\")\n",
        "for b in ctr.list_blobs(name_starts_with=\"drivers-output/\"):\n",
        "    print(\" \", b.name)\n"
      ],
      "metadata": {
        "colab": {
          "base_uri": "https://localhost:8080/"
        },
        "id": "6DKK06i9rPV2",
        "outputId": "e9d32f89-148d-4c36-895f-938a76ef6f36"
      },
      "execution_count": null,
      "outputs": [
        {
          "output_type": "stream",
          "name": "stdout",
          "text": [
            "=== ride-requests-output ===\n",
            "  ride-requests-output/_spark_metadata\n",
            "  ride-requests-output/_spark_metadata/0\n",
            "  ride-requests-output/_spark_metadata/1\n",
            "  ride-requests-output/_spark_metadata/10\n",
            "  ride-requests-output/_spark_metadata/11\n",
            "  ride-requests-output/_spark_metadata/12\n",
            "  ride-requests-output/_spark_metadata/13\n",
            "  ride-requests-output/_spark_metadata/14\n",
            "  ride-requests-output/_spark_metadata/15\n",
            "  ride-requests-output/_spark_metadata/16\n",
            "  ride-requests-output/_spark_metadata/17\n",
            "  ride-requests-output/_spark_metadata/18\n",
            "  ride-requests-output/_spark_metadata/19.compact\n",
            "  ride-requests-output/_spark_metadata/2\n",
            "  ride-requests-output/_spark_metadata/20\n",
            "  ride-requests-output/_spark_metadata/21\n",
            "  ride-requests-output/_spark_metadata/22\n",
            "  ride-requests-output/_spark_metadata/3\n",
            "  ride-requests-output/_spark_metadata/4\n",
            "  ride-requests-output/_spark_metadata/5\n",
            "  ride-requests-output/_spark_metadata/6\n",
            "  ride-requests-output/_spark_metadata/7\n",
            "  ride-requests-output/_spark_metadata/8\n",
            "  ride-requests-output/_spark_metadata/9.compact\n",
            "  ride-requests-output/part-00000-000209b4-7bb3-4b28-a591-aec023c838f8-c000.snappy.parquet\n",
            "  ride-requests-output/part-00000-11b91c91-1b8d-484f-a836-ad91a82793a7-c000.snappy.parquet\n",
            "  ride-requests-output/part-00000-14198612-294a-4288-b72b-24693406d9f4-c000.snappy.parquet\n",
            "  ride-requests-output/part-00000-18571db7-3c0a-4a21-9028-b78d3f526f7d-c000.snappy.parquet\n",
            "  ride-requests-output/part-00000-1d55c080-9835-4411-b748-9d9fe3097ab5-c000.snappy.parquet\n",
            "  ride-requests-output/part-00000-24f5bd96-00cc-4af3-8455-6ce2270b9f7e-c000.snappy.parquet\n",
            "  ride-requests-output/part-00000-38b8557a-ce56-4924-980c-4fdabe2b0ca7-c000.snappy.parquet\n",
            "  ride-requests-output/part-00000-4fcf699b-321a-4d8b-89e3-e8d8328adc68-c000.snappy.parquet\n",
            "  ride-requests-output/part-00000-50d53417-1e82-4a87-85d9-f9714d25e174-c000.snappy.parquet\n",
            "  ride-requests-output/part-00000-525834a5-062e-4763-b6c7-4a3e9144bec0-c000.snappy.parquet\n",
            "  ride-requests-output/part-00000-551169c2-bcd1-4bf5-b069-677cd699d089-c000.snappy.parquet\n",
            "  ride-requests-output/part-00000-6a25c3ca-3d5c-4e15-9198-fd125090d5a3-c000.snappy.parquet\n",
            "  ride-requests-output/part-00000-6fc0dae2-7a27-4b1f-95e4-859bce79fe11-c000.snappy.parquet\n",
            "  ride-requests-output/part-00000-7e4902d5-c129-4c57-8044-d788be2e7039-c000.snappy.parquet\n",
            "  ride-requests-output/part-00000-847f195d-ea58-47de-8751-97dc21f613f7-c000.snappy.parquet\n",
            "  ride-requests-output/part-00000-8bde94e8-4222-4da0-b902-ec11b83520a5-c000.snappy.parquet\n",
            "  ride-requests-output/part-00000-8d329ed6-dc05-4729-83d5-f11e384563f9-c000.snappy.parquet\n",
            "  ride-requests-output/part-00000-936e5eb8-aeee-4cf1-9888-c193da790e50-c000.snappy.parquet\n",
            "  ride-requests-output/part-00000-b6e24e06-51b9-4345-8121-233c07ee9036-c000.snappy.parquet\n",
            "  ride-requests-output/part-00000-bbbbaed9-c5a5-419f-b2d7-2c4642546623-c000.snappy.parquet\n",
            "  ride-requests-output/part-00000-ccda9a3b-e864-4e23-94bd-d2ba817f7d27-c000.snappy.parquet\n",
            "  ride-requests-output/part-00000-dbd35bcd-a564-4f80-9e98-0775cc086698-c000.snappy.parquet\n",
            "  ride-requests-output/part-00000-f2175bce-f32a-4bbd-bda3-e30ae4d5f2db-c000.snappy.parquet\n",
            "\n",
            "=== drivers-output ===\n",
            "  drivers-output/_spark_metadata\n",
            "  drivers-output/_spark_metadata/0\n",
            "  drivers-output/_spark_metadata/1\n",
            "  drivers-output/_spark_metadata/10\n",
            "  drivers-output/_spark_metadata/11\n",
            "  drivers-output/_spark_metadata/12\n",
            "  drivers-output/_spark_metadata/13\n",
            "  drivers-output/_spark_metadata/14\n",
            "  drivers-output/_spark_metadata/15\n",
            "  drivers-output/_spark_metadata/16\n",
            "  drivers-output/_spark_metadata/17\n",
            "  drivers-output/_spark_metadata/18\n",
            "  drivers-output/_spark_metadata/19.compact\n",
            "  drivers-output/_spark_metadata/2\n",
            "  drivers-output/_spark_metadata/20\n",
            "  drivers-output/_spark_metadata/21\n",
            "  drivers-output/_spark_metadata/22\n",
            "  drivers-output/_spark_metadata/3\n",
            "  drivers-output/_spark_metadata/4\n",
            "  drivers-output/_spark_metadata/5\n",
            "  drivers-output/_spark_metadata/6\n",
            "  drivers-output/_spark_metadata/7\n",
            "  drivers-output/_spark_metadata/8\n",
            "  drivers-output/_spark_metadata/9.compact\n",
            "  drivers-output/part-00000-02da37ce-864d-4ab3-abf1-a70049d79b97-c000.snappy.parquet\n",
            "  drivers-output/part-00000-0474105c-432b-482f-9bdd-e152a250e947-c000.snappy.parquet\n",
            "  drivers-output/part-00000-08ddbeb2-b047-4308-b749-e6245b130bd9-c000.snappy.parquet\n",
            "  drivers-output/part-00000-163a90c1-629b-4c58-b965-b494b47b3a1c-c000.snappy.parquet\n",
            "  drivers-output/part-00000-176db9e0-3b4a-4ad9-aeac-e4cf7f3c3ec9-c000.snappy.parquet\n",
            "  drivers-output/part-00000-2aaefe6e-ff61-4170-82f7-291b0e2f6623-c000.snappy.parquet\n",
            "  drivers-output/part-00000-361b65f5-76bc-4c6a-9edd-6235dd9943ec-c000.snappy.parquet\n",
            "  drivers-output/part-00000-4d9a6adc-bc64-494e-8234-c0afd8319df8-c000.snappy.parquet\n",
            "  drivers-output/part-00000-58e5543d-2854-4725-8f88-4e977e78292d-c000.snappy.parquet\n",
            "  drivers-output/part-00000-73153370-b771-4c56-a3c2-562c1a0defb3-c000.snappy.parquet\n",
            "  drivers-output/part-00000-798b439a-2076-4dae-93d5-5f6f1067d4ba-c000.snappy.parquet\n",
            "  drivers-output/part-00000-7cf9b8aa-e5cd-42a5-80dd-a92ac0155604-c000.snappy.parquet\n",
            "  drivers-output/part-00000-90ac09ca-b5ae-4e50-9a5b-058debcd3f99-c000.snappy.parquet\n",
            "  drivers-output/part-00000-970a26cc-2cfb-4dfb-bc11-5fb0a3e7e3ff-c000.snappy.parquet\n",
            "  drivers-output/part-00000-a3b2406a-4518-4dd6-b042-9c575147f060-c000.snappy.parquet\n",
            "  drivers-output/part-00000-a3f81957-5220-47cc-85fe-87eda52db2ac-c000.snappy.parquet\n",
            "  drivers-output/part-00000-b94d1374-8eaa-41fc-a674-2747624015a5-c000.snappy.parquet\n",
            "  drivers-output/part-00000-ba2084e6-0bd5-4084-bb42-0020983499f9-c000.snappy.parquet\n",
            "  drivers-output/part-00000-d426f314-5e2f-424e-8850-6b06de7ae4e8-c000.snappy.parquet\n",
            "  drivers-output/part-00000-de013af1-0284-49e6-9d8f-14c236ff50d3-c000.snappy.parquet\n",
            "  drivers-output/part-00000-ecda47a9-b3ec-4b76-950a-51f6815bdf64-c000.snappy.parquet\n",
            "  drivers-output/part-00000-efb02342-cdf4-4a16-9ef9-72dc206fec60-c000.snappy.parquet\n",
            "  drivers-output/part-00000-f9330143-e9b4-46cf-8749-feebc8f69c4c-c000.snappy.parquet\n"
          ]
        }
      ]
    },
    {
      "cell_type": "markdown",
      "source": [
        "## RUN TO STOP SPARK SESSION"
      ],
      "metadata": {
        "id": "aSPvH1Q9FTd_"
      }
    },
    {
      "cell_type": "code",
      "source": [
        "# Stop any active streaming queries\n",
        "for q in spark.streams.active:\n",
        "    print(f\"Stopping query {q.name}…\")\n",
        "    q.stop()\n",
        "\n",
        "# Finally, stop the SparkSession\n",
        "spark.stop()\n",
        "print(\"✅ Spark session stopped.\")\n"
      ],
      "metadata": {
        "id": "EwBLTNFOhWg0"
      },
      "execution_count": null,
      "outputs": []
    }
  ]
}