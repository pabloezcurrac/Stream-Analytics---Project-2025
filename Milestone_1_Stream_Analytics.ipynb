{
  "nbformat": 4,
  "nbformat_minor": 0,
  "metadata": {
    "colab": {
      "provenance": []
    },
    "kernelspec": {
      "name": "python3",
      "display_name": "Python 3"
    },
    "language_info": {
      "name": "python"
    }
  },
  "cells": [
    {
      "cell_type": "code",
      "source": [
        "!pip install fastavro\n",
        "!pip install faker\n",
        "!pip install numpy\n",
        "!python generate_avro.py"
      ],
      "metadata": {
        "id": "6nfBVXTtAZ67",
        "colab": {
          "base_uri": "https://localhost:8080/"
        },
        "outputId": "0ff75802-9030-4c7c-8aaf-5c0f7190e4f0"
      },
      "execution_count": 1,
      "outputs": [
        {
          "output_type": "stream",
          "name": "stdout",
          "text": [
            "Collecting fastavro\n",
            "  Downloading fastavro-1.10.0-cp311-cp311-manylinux_2_17_x86_64.manylinux2014_x86_64.whl.metadata (5.5 kB)\n",
            "Downloading fastavro-1.10.0-cp311-cp311-manylinux_2_17_x86_64.manylinux2014_x86_64.whl (3.3 MB)\n",
            "\u001b[2K   \u001b[90m━━━━━━━━━━━━━━━━━━━━━━━━━━━━━━━━━━━━━━━━\u001b[0m \u001b[32m3.3/3.3 MB\u001b[0m \u001b[31m20.8 MB/s\u001b[0m eta \u001b[36m0:00:00\u001b[0m\n",
            "\u001b[?25hInstalling collected packages: fastavro\n",
            "Successfully installed fastavro-1.10.0\n",
            "Collecting faker\n",
            "  Downloading faker-37.0.0-py3-none-any.whl.metadata (15 kB)\n",
            "Requirement already satisfied: tzdata in /usr/local/lib/python3.11/dist-packages (from faker) (2025.1)\n",
            "Downloading faker-37.0.0-py3-none-any.whl (1.9 MB)\n",
            "\u001b[2K   \u001b[90m━━━━━━━━━━━━━━━━━━━━━━━━━━━━━━━━━━━━━━━━\u001b[0m \u001b[32m1.9/1.9 MB\u001b[0m \u001b[31m19.0 MB/s\u001b[0m eta \u001b[36m0:00:00\u001b[0m\n",
            "\u001b[?25hInstalling collected packages: faker\n",
            "Successfully installed faker-37.0.0\n",
            "Requirement already satisfied: numpy in /usr/local/lib/python3.11/dist-packages (1.26.4)\n",
            "python3: can't open file '/content/generate_avro.py': [Errno 2] No such file or directory\n"
          ]
        }
      ]
    },
    {
      "cell_type": "markdown",
      "source": [
        "## DATA GENERATOR:"
      ],
      "metadata": {
        "id": "OpRe_UFDCWdk"
      }
    },
    {
      "cell_type": "markdown",
      "source": [
        "Two Avro Schemas defined for the two data feeds selected:\n",
        "*   Passenger request\n",
        "*   Driver availability\n",
        "\n",
        "At first we chose several spanish cities to test the generator, but afterwards we saw that the results weren't very realistic, so we focused on Madrid area.\n"
      ],
      "metadata": {
        "id": "Og1R0-tMCc_0"
      }
    },
    {
      "cell_type": "markdown",
      "source": [
        "MADRID"
      ],
      "metadata": {
        "id": "hQrxw0Ix9pHy"
      }
    },
    {
      "cell_type": "code",
      "source": [
        "import random\n",
        "import uuid\n",
        "import json\n",
        "import fastavro\n",
        "from datetime import datetime\n",
        "from geopy.distance import geodesic"
      ],
      "metadata": {
        "id": "07rsgMaatmTy"
      },
      "execution_count": 2,
      "outputs": []
    },
    {
      "cell_type": "code",
      "source": [
        "# AVRO schema for passenger requests\n",
        "passenger_request_schema = {\n",
        "    \"type\": \"record\",\n",
        "    \"name\": \"PassengerRequest\",\n",
        "    \"fields\": [\n",
        "        {\"name\": \"id\", \"type\": \"string\"},\n",
        "        {\"name\": \"vendor_id\", \"type\": \"int\"},\n",
        "        {\"name\": \"pickup_datetime\", \"type\": \"string\"},\n",
        "        {\"name\": \"passenger_count\", \"type\": \"int\"},\n",
        "        {\"name\": \"pickup_longitude\", \"type\": \"double\"},\n",
        "        {\"name\": \"pickup_latitude\", \"type\": \"double\"},\n",
        "        {\"name\": \"dropoff_longitude\", \"type\": \"double\"},\n",
        "        {\"name\": \"dropoff_latitude\", \"type\": \"double\"},\n",
        "        {\"name\": \"vehicle_type\", \"type\": \"string\"},\n",
        "        {\"name\": \"fare_estimate\", \"type\": \"double\"}\n",
        "    ]\n",
        "}"
      ],
      "metadata": {
        "id": "S99OlXB8DB46"
      },
      "execution_count": 3,
      "outputs": []
    },
    {
      "cell_type": "code",
      "source": [
        "# AVRO schema for driver availability\n",
        "driver_availability_schema = {\n",
        "    \"type\": \"record\",\n",
        "    \"name\": \"DriverAvailability\",\n",
        "    \"fields\": [\n",
        "        {\"name\": \"driver_id\", \"type\": \"string\"},\n",
        "        {\"name\": \"available_since\", \"type\": \"string\"},\n",
        "        {\"name\": \"vehicle_type\", \"type\": \"string\"},\n",
        "        {\"name\": \"current_longitude\", \"type\": \"double\"},\n",
        "        {\"name\": \"current_latitude\", \"type\": \"double\"},\n",
        "        {\"name\": \"availability_status\", \"type\": \"string\"}\n",
        "    ]\n",
        "}"
      ],
      "metadata": {
        "id": "6nyClcWBDMxM"
      },
      "execution_count": 4,
      "outputs": []
    },
    {
      "cell_type": "markdown",
      "source": [
        "Once the Avro schemas were defined we started to create two main functions for the data generator. However, since we wanted to make it as realistic as possible we had to define the types of vehicles and Madrid coordinates."
      ],
      "metadata": {
        "id": "yTGSdbvfEDDP"
      }
    },
    {
      "cell_type": "code",
      "source": [
        "# We use the following webpage to define the Madrid area in coordinates format: http://bboxfinder.com/#0.000000,0.000000,0.000000,0.000000\n",
        "MADRID_LAT_MIN, MADRID_LAT_MAX = 40.30, 40.50\n",
        "MADRID_LON_MIN, MADRID_LON_MAX = -3.75, -3.60\n",
        "\n",
        "def random_madrid_location():\n",
        "    lat = round(random.uniform(MADRID_LAT_MIN, MADRID_LAT_MAX), 6)\n",
        "    lon = round(random.uniform(MADRID_LON_MIN, MADRID_LON_MAX), 6)\n",
        "    return lat, lon\n",
        "\n",
        "\n",
        "# We defined the different vehicle types & an approximate fare.\n",
        "FARE_CONFIG = {\n",
        "    \"Economy\": {\"base\": 2.5, \"per_km\": 1.2, \"surcharge\": 0.5},\n",
        "    \"Standard\": {\"base\": 3.0, \"per_km\": 1.5, \"surcharge\": 1.0},\n",
        "    \"Luxury\": {\"base\": 5.0, \"per_km\": 2.5, \"surcharge\": 2.0},\n",
        "}\n",
        "\n",
        "def calculate_fare(vehicle_type, distance_km):\n",
        "    config = FARE_CONFIG[vehicle_type]\n",
        "    return round(config[\"base\"] + (distance_km * config[\"per_km\"]) + config[\"surcharge\"], 2)"
      ],
      "metadata": {
        "id": "CqmoKFP7EWEm"
      },
      "execution_count": 5,
      "outputs": []
    },
    {
      "cell_type": "markdown",
      "source": [
        "Now that we had everything set up, we started to create the two data generators for the two data feeds"
      ],
      "metadata": {
        "id": "VhPAkwPwFNsM"
      }
    },
    {
      "cell_type": "markdown",
      "source": [
        "\n",
        "\n",
        "1st function: to generate passenger requests which takes pickup location & dropoff location randomly to make it more realistic.\n",
        "\n",
        "This function contains the id of the request, the vendor_id which handle the request, number of passengers, pickup_datetime, pickup / dropoff location, type of vehicle and the charged amount for the trip\n",
        "\n",
        "\n",
        "---\n",
        "\n",
        "\n",
        "2nd function: to generate driver availability which contains the driver_id, availability status, vehicle type, current location of the driver and the availability.\n",
        "\n"
      ],
      "metadata": {
        "id": "AYe6_Z7jDDsI"
      }
    },
    {
      "cell_type": "code",
      "source": [
        "def generate_passenger_request():\n",
        "    pickup_lat, pickup_lon = random_madrid_location()\n",
        "    dropoff_lat, dropoff_lon = random_madrid_location()\n",
        "    distance_km = geodesic((pickup_lat, pickup_lon), (dropoff_lat, dropoff_lon)).km\n",
        "    vehicle_type = random.choice(list(FARE_CONFIG.keys()))\n",
        "    fare_estimate = calculate_fare(vehicle_type, distance_km)\n",
        "\n",
        "    return {\n",
        "        \"id\": str(uuid.uuid4()),\n",
        "        \"vendor_id\": random.randint(1, 3),\n",
        "        \"pickup_datetime\": datetime.utcnow().isoformat(),\n",
        "        \"passenger_count\": random.randint(1, 4),\n",
        "        \"pickup_longitude\": pickup_lon,\n",
        "        \"pickup_latitude\": pickup_lat,\n",
        "        \"dropoff_longitude\": dropoff_lon,\n",
        "        \"dropoff_latitude\": dropoff_lat,\n",
        "        \"vehicle_type\": vehicle_type,\n",
        "        \"fare_estimate\": fare_estimate\n",
        "    }\n",
        "\n",
        "def generate_driver_availability():\n",
        "    driver_lat, driver_lon = random_madrid_location()\n",
        "    return {\n",
        "        \"driver_id\": str(uuid.uuid4()),\n",
        "        \"available_since\": datetime.utcnow().isoformat(),\n",
        "        \"vehicle_type\": random.choice(list(FARE_CONFIG.keys())),\n",
        "        \"current_longitude\": driver_lon,\n",
        "        \"current_latitude\": driver_lat,\n",
        "        \"availability_status\": random.choice([\"Available\", \"Busy\"])\n",
        "    }"
      ],
      "metadata": {
        "id": "fwO4VLqNt7Vc"
      },
      "execution_count": 6,
      "outputs": []
    },
    {
      "cell_type": "markdown",
      "source": [
        "To continue, once the data generators were created we had to searilize the data in order to pass the info from JSON to Avro format (we used fastavro for this). As seen in class, this part is key in order to compact the data in a binary form that reduces storage size offering faster streaming and processing."
      ],
      "metadata": {
        "id": "9DSJa-NlF9JB"
      }
    },
    {
      "cell_type": "code",
      "source": [
        "def serialize_to_avro(data, schema, file_path):\n",
        "    with open(file_path, \"wb\") as out_file:\n",
        "        fastavro.writer(out_file, schema, data)"
      ],
      "metadata": {
        "id": "E0uGkJIXuX_U"
      },
      "execution_count": 7,
      "outputs": []
    },
    {
      "cell_type": "markdown",
      "source": [
        "Finally, we tested the data generators with 10 passenger requests and 5 drivers to see how it was working."
      ],
      "metadata": {
        "id": "UgBmT0mDHCSX"
      }
    },
    {
      "cell_type": "code",
      "source": [
        "num_requests = 10\n",
        "num_drivers = 10\n",
        "passenger_requests = [generate_passenger_request() for _ in range(num_requests)]\n",
        "driver_availabilities = [generate_driver_availability() for _ in range(num_drivers)]\n",
        "\n",
        "# In order to save to Avro format\n",
        "serialize_to_avro(passenger_requests, passenger_request_schema, \"passenger_requests.avro\")\n",
        "serialize_to_avro(driver_availabilities, driver_availability_schema, \"driver_availability.avro\")\n",
        "\n",
        "# Print results in JSON format:\n",
        "print(\"Sample passenger requests data:\")\n",
        "for request in passenger_requests:\n",
        "    print(json.dumps(request, indent=4))\n",
        "\n",
        "print(\"\\nSample driver availability data:\")\n",
        "for driver in driver_availabilities:\n",
        "    print(json.dumps(driver, indent=4))\n",
        "\n",
        "def serialize_to_json(data, file_path):\n",
        "    with open(file_path, \"w\", encoding=\"utf-8\") as json_file:\n",
        "        json.dump(data, json_file, indent=4)\n",
        "\n",
        "# In order to save to JSON format\n",
        "serialize_to_json(passenger_requests, \"passenger_requests.json\")\n",
        "serialize_to_json(driver_availabilities, \"driver_availability.json\")"
      ],
      "metadata": {
        "colab": {
          "base_uri": "https://localhost:8080/"
        },
        "id": "06VuESqfucv8",
        "outputId": "36aaa541-2e74-480b-f4d8-858fe674c50a"
      },
      "execution_count": 9,
      "outputs": [
        {
          "output_type": "stream",
          "name": "stdout",
          "text": [
            "Sample passenger requests data:\n",
            "{\n",
            "    \"id\": \"ff1dd60a-8b93-4a25-8aa1-058bf40671cd\",\n",
            "    \"vendor_id\": 2,\n",
            "    \"pickup_datetime\": \"2025-03-16T21:11:25.464139\",\n",
            "    \"passenger_count\": 2,\n",
            "    \"pickup_longitude\": -3.610393,\n",
            "    \"pickup_latitude\": 40.336669,\n",
            "    \"dropoff_longitude\": -3.703716,\n",
            "    \"dropoff_latitude\": 40.488569,\n",
            "    \"vehicle_type\": \"Economy\",\n",
            "    \"fare_estimate\": 25.36\n",
            "}\n",
            "{\n",
            "    \"id\": \"cc6e5134-5730-4717-a550-03817b225283\",\n",
            "    \"vendor_id\": 3,\n",
            "    \"pickup_datetime\": \"2025-03-16T21:11:25.464346\",\n",
            "    \"passenger_count\": 1,\n",
            "    \"pickup_longitude\": -3.600997,\n",
            "    \"pickup_latitude\": 40.345571,\n",
            "    \"dropoff_longitude\": -3.72291,\n",
            "    \"dropoff_latitude\": 40.33415,\n",
            "    \"vehicle_type\": \"Standard\",\n",
            "    \"fare_estimate\": 19.65\n",
            "}\n",
            "{\n",
            "    \"id\": \"f0a608b9-9513-4afc-8ba0-a1119cf28cac\",\n",
            "    \"vendor_id\": 3,\n",
            "    \"pickup_datetime\": \"2025-03-16T21:11:25.464534\",\n",
            "    \"passenger_count\": 3,\n",
            "    \"pickup_longitude\": -3.697209,\n",
            "    \"pickup_latitude\": 40.389272,\n",
            "    \"dropoff_longitude\": -3.73874,\n",
            "    \"dropoff_latitude\": 40.312145,\n",
            "    \"vehicle_type\": \"Economy\",\n",
            "    \"fare_estimate\": 14.12\n",
            "}\n",
            "{\n",
            "    \"id\": \"e0d2b838-09e6-4285-95ab-849a7ba99f0b\",\n",
            "    \"vendor_id\": 3,\n",
            "    \"pickup_datetime\": \"2025-03-16T21:11:25.464720\",\n",
            "    \"passenger_count\": 3,\n",
            "    \"pickup_longitude\": -3.607878,\n",
            "    \"pickup_latitude\": 40.395265,\n",
            "    \"dropoff_longitude\": -3.633386,\n",
            "    \"dropoff_latitude\": 40.474995,\n",
            "    \"vehicle_type\": \"Standard\",\n",
            "    \"fare_estimate\": 17.67\n",
            "}\n",
            "{\n",
            "    \"id\": \"176500f6-d343-4576-80c3-71609d45705d\",\n",
            "    \"vendor_id\": 1,\n",
            "    \"pickup_datetime\": \"2025-03-16T21:11:25.464936\",\n",
            "    \"passenger_count\": 1,\n",
            "    \"pickup_longitude\": -3.627774,\n",
            "    \"pickup_latitude\": 40.339947,\n",
            "    \"dropoff_longitude\": -3.674578,\n",
            "    \"dropoff_latitude\": 40.495027,\n",
            "    \"vehicle_type\": \"Economy\",\n",
            "    \"fare_estimate\": 24.21\n",
            "}\n",
            "{\n",
            "    \"id\": \"f1e242d2-04ab-428c-8029-e746b471ebc0\",\n",
            "    \"vendor_id\": 3,\n",
            "    \"pickup_datetime\": \"2025-03-16T21:11:25.465138\",\n",
            "    \"passenger_count\": 1,\n",
            "    \"pickup_longitude\": -3.604743,\n",
            "    \"pickup_latitude\": 40.424242,\n",
            "    \"dropoff_longitude\": -3.687368,\n",
            "    \"dropoff_latitude\": 40.32317,\n",
            "    \"vehicle_type\": \"Economy\",\n",
            "    \"fare_estimate\": 18.88\n",
            "}\n",
            "{\n",
            "    \"id\": \"e317b679-0b6e-4a9c-8400-75a22f9a95a0\",\n",
            "    \"vendor_id\": 1,\n",
            "    \"pickup_datetime\": \"2025-03-16T21:11:25.465337\",\n",
            "    \"passenger_count\": 3,\n",
            "    \"pickup_longitude\": -3.713042,\n",
            "    \"pickup_latitude\": 40.480159,\n",
            "    \"dropoff_longitude\": -3.61092,\n",
            "    \"dropoff_latitude\": 40.490248,\n",
            "    \"vehicle_type\": \"Luxury\",\n",
            "    \"fare_estimate\": 28.83\n",
            "}\n",
            "{\n",
            "    \"id\": \"9d9cf49f-98d2-40ae-b873-80b63af813ea\",\n",
            "    \"vendor_id\": 2,\n",
            "    \"pickup_datetime\": \"2025-03-16T21:11:25.465529\",\n",
            "    \"passenger_count\": 4,\n",
            "    \"pickup_longitude\": -3.68442,\n",
            "    \"pickup_latitude\": 40.421116,\n",
            "    \"dropoff_longitude\": -3.631712,\n",
            "    \"dropoff_latitude\": 40.485032,\n",
            "    \"vehicle_type\": \"Economy\",\n",
            "    \"fare_estimate\": 13.07\n",
            "}\n",
            "{\n",
            "    \"id\": \"f7dc8ce0-a20e-4f52-8c7d-e42c4f85ab91\",\n",
            "    \"vendor_id\": 2,\n",
            "    \"pickup_datetime\": \"2025-03-16T21:11:25.465721\",\n",
            "    \"passenger_count\": 3,\n",
            "    \"pickup_longitude\": -3.646626,\n",
            "    \"pickup_latitude\": 40.391043,\n",
            "    \"dropoff_longitude\": -3.608548,\n",
            "    \"dropoff_latitude\": 40.378529,\n",
            "    \"vehicle_type\": \"Standard\",\n",
            "    \"fare_estimate\": 9.28\n",
            "}\n",
            "{\n",
            "    \"id\": \"4befae32-232f-4e67-9f9c-da4b565e89c7\",\n",
            "    \"vendor_id\": 1,\n",
            "    \"pickup_datetime\": \"2025-03-16T21:11:25.465946\",\n",
            "    \"passenger_count\": 4,\n",
            "    \"pickup_longitude\": -3.738525,\n",
            "    \"pickup_latitude\": 40.372867,\n",
            "    \"dropoff_longitude\": -3.732916,\n",
            "    \"dropoff_latitude\": 40.332417,\n",
            "    \"vehicle_type\": \"Luxury\",\n",
            "    \"fare_estimate\": 18.29\n",
            "}\n",
            "\n",
            "Sample driver availability data:\n",
            "{\n",
            "    \"driver_id\": \"c38fde92-39af-410c-bbc7-2aee0542350e\",\n",
            "    \"available_since\": \"2025-03-16T21:11:25.466119\",\n",
            "    \"vehicle_type\": \"Economy\",\n",
            "    \"current_longitude\": -3.640131,\n",
            "    \"current_latitude\": 40.373625,\n",
            "    \"availability_status\": \"Busy\"\n",
            "}\n",
            "{\n",
            "    \"driver_id\": \"8dfbea04-c93b-41bd-beeb-8ca9fcd5eb87\",\n",
            "    \"available_since\": \"2025-03-16T21:11:25.466150\",\n",
            "    \"vehicle_type\": \"Economy\",\n",
            "    \"current_longitude\": -3.641579,\n",
            "    \"current_latitude\": 40.413876,\n",
            "    \"availability_status\": \"Busy\"\n",
            "}\n",
            "{\n",
            "    \"driver_id\": \"f0107927-a3d9-44a7-b6a1-5015d80c64f7\",\n",
            "    \"available_since\": \"2025-03-16T21:11:25.466174\",\n",
            "    \"vehicle_type\": \"Standard\",\n",
            "    \"current_longitude\": -3.705468,\n",
            "    \"current_latitude\": 40.373104,\n",
            "    \"availability_status\": \"Busy\"\n",
            "}\n",
            "{\n",
            "    \"driver_id\": \"aa0b8f3a-2d0f-45a4-87e8-fefaec564a54\",\n",
            "    \"available_since\": \"2025-03-16T21:11:25.466196\",\n",
            "    \"vehicle_type\": \"Standard\",\n",
            "    \"current_longitude\": -3.740582,\n",
            "    \"current_latitude\": 40.31349,\n",
            "    \"availability_status\": \"Busy\"\n",
            "}\n",
            "{\n",
            "    \"driver_id\": \"0f0cc2c9-a018-44c3-a09c-237db48cc720\",\n",
            "    \"available_since\": \"2025-03-16T21:11:25.466218\",\n",
            "    \"vehicle_type\": \"Luxury\",\n",
            "    \"current_longitude\": -3.729655,\n",
            "    \"current_latitude\": 40.443498,\n",
            "    \"availability_status\": \"Busy\"\n",
            "}\n",
            "{\n",
            "    \"driver_id\": \"5b890910-d752-4adb-9c58-0d0187f88e66\",\n",
            "    \"available_since\": \"2025-03-16T21:11:25.466239\",\n",
            "    \"vehicle_type\": \"Economy\",\n",
            "    \"current_longitude\": -3.682954,\n",
            "    \"current_latitude\": 40.373929,\n",
            "    \"availability_status\": \"Busy\"\n",
            "}\n",
            "{\n",
            "    \"driver_id\": \"1dc0b151-cbe8-4f1f-8871-55bcc9329c27\",\n",
            "    \"available_since\": \"2025-03-16T21:11:25.466261\",\n",
            "    \"vehicle_type\": \"Standard\",\n",
            "    \"current_longitude\": -3.740332,\n",
            "    \"current_latitude\": 40.385156,\n",
            "    \"availability_status\": \"Available\"\n",
            "}\n",
            "{\n",
            "    \"driver_id\": \"b20e2f2c-44fc-42ff-b44c-dafbcf5d82d1\",\n",
            "    \"available_since\": \"2025-03-16T21:11:25.466284\",\n",
            "    \"vehicle_type\": \"Standard\",\n",
            "    \"current_longitude\": -3.687194,\n",
            "    \"current_latitude\": 40.327791,\n",
            "    \"availability_status\": \"Busy\"\n",
            "}\n",
            "{\n",
            "    \"driver_id\": \"7ed839e4-5fac-41a5-8b17-4130941c7eea\",\n",
            "    \"available_since\": \"2025-03-16T21:11:25.466305\",\n",
            "    \"vehicle_type\": \"Economy\",\n",
            "    \"current_longitude\": -3.68537,\n",
            "    \"current_latitude\": 40.323845,\n",
            "    \"availability_status\": \"Available\"\n",
            "}\n",
            "{\n",
            "    \"driver_id\": \"99c985ef-8398-4d82-ac60-364efdc2060d\",\n",
            "    \"available_since\": \"2025-03-16T21:11:25.466328\",\n",
            "    \"vehicle_type\": \"Standard\",\n",
            "    \"current_longitude\": -3.626609,\n",
            "    \"current_latitude\": 40.412235,\n",
            "    \"availability_status\": \"Available\"\n",
            "}\n"
          ]
        }
      ]
    }
  ]
}