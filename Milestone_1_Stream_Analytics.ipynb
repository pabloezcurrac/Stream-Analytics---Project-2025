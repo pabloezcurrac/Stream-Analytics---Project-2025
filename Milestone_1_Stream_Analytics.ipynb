{
  "nbformat": 4,
  "nbformat_minor": 0,
  "metadata": {
    "colab": {
      "provenance": []
    },
    "kernelspec": {
      "name": "python3",
      "display_name": "Python 3"
    },
    "language_info": {
      "name": "python"
    }
  },
  "cells": [
    {
      "cell_type": "code",
      "source": [
        "!pip install fastavro\n",
        "!pip install faker\n",
        "!pip install numpy\n",
        "!python generate_avro.py"
      ],
      "metadata": {
        "id": "6nfBVXTtAZ67",
        "colab": {
          "base_uri": "https://localhost:8080/"
        },
        "outputId": "8690dc90-73e9-4c9a-ab35-016ef9f2db90"
      },
      "execution_count": 1,
      "outputs": [
        {
          "output_type": "stream",
          "name": "stdout",
          "text": [
            "Collecting fastavro\n",
            "  Downloading fastavro-1.10.0-cp311-cp311-manylinux_2_17_x86_64.manylinux2014_x86_64.whl.metadata (5.5 kB)\n",
            "Downloading fastavro-1.10.0-cp311-cp311-manylinux_2_17_x86_64.manylinux2014_x86_64.whl (3.3 MB)\n",
            "\u001b[2K   \u001b[90m━━━━━━━━━━━━━━━━━━━━━━━━━━━━━━━━━━━━━━━━\u001b[0m \u001b[32m3.3/3.3 MB\u001b[0m \u001b[31m17.2 MB/s\u001b[0m eta \u001b[36m0:00:00\u001b[0m\n",
            "\u001b[?25hInstalling collected packages: fastavro\n",
            "Successfully installed fastavro-1.10.0\n",
            "Collecting faker\n",
            "  Downloading faker-37.0.0-py3-none-any.whl.metadata (15 kB)\n",
            "Requirement already satisfied: tzdata in /usr/local/lib/python3.11/dist-packages (from faker) (2025.1)\n",
            "Downloading faker-37.0.0-py3-none-any.whl (1.9 MB)\n",
            "\u001b[2K   \u001b[90m━━━━━━━━━━━━━━━━━━━━━━━━━━━━━━━━━━━━━━━━\u001b[0m \u001b[32m1.9/1.9 MB\u001b[0m \u001b[31m24.7 MB/s\u001b[0m eta \u001b[36m0:00:00\u001b[0m\n",
            "\u001b[?25hInstalling collected packages: faker\n",
            "Successfully installed faker-37.0.0\n",
            "Requirement already satisfied: numpy in /usr/local/lib/python3.11/dist-packages (1.26.4)\n",
            "python3: can't open file '/content/generate_avro.py': [Errno 2] No such file or directory\n"
          ]
        }
      ]
    },
    {
      "cell_type": "markdown",
      "source": [
        "## DATA GENERATOR:"
      ],
      "metadata": {
        "id": "OpRe_UFDCWdk"
      }
    },
    {
      "cell_type": "markdown",
      "source": [
        "Two Avro Schemas defined for the two data feeds selected:\n",
        "*   Passenger request\n",
        "*   Driver availability\n",
        "\n",
        "At first we chose several spanish cities to test the generator, but afterwards we saw that the results weren't very realistic, so we focused on Madrid area.\n"
      ],
      "metadata": {
        "id": "Og1R0-tMCc_0"
      }
    },
    {
      "cell_type": "markdown",
      "source": [
        "MADRID"
      ],
      "metadata": {
        "id": "hQrxw0Ix9pHy"
      }
    },
    {
      "cell_type": "code",
      "source": [
        "import random\n",
        "import uuid\n",
        "import json\n",
        "import fastavro\n",
        "from datetime import datetime\n",
        "from geopy.distance import geodesic"
      ],
      "metadata": {
        "id": "07rsgMaatmTy"
      },
      "execution_count": 2,
      "outputs": []
    },
    {
      "cell_type": "code",
      "source": [
        "# AVRO schema for passenger requests\n",
        "passenger_request_schema = {\n",
        "    \"type\": \"record\",\n",
        "    \"name\": \"PassengerRequest\",\n",
        "    \"fields\": [\n",
        "        {\"name\": \"id\", \"type\": \"string\"},\n",
        "        {\"name\": \"vendor_id\", \"type\": \"int\"},\n",
        "        {\"name\": \"pickup_datetime\", \"type\": \"string\"},\n",
        "        {\"name\": \"passenger_count\", \"type\": \"int\"},\n",
        "        {\"name\": \"pickup_longitude\", \"type\": \"double\"},\n",
        "        {\"name\": \"pickup_latitude\", \"type\": \"double\"},\n",
        "        {\"name\": \"dropoff_longitude\", \"type\": \"double\"},\n",
        "        {\"name\": \"dropoff_latitude\", \"type\": \"double\"},\n",
        "        {\"name\": \"vehicle_type\", \"type\": \"string\"},\n",
        "        {\"name\": \"fare_estimate\", \"type\": \"double\"}\n",
        "    ]\n",
        "}"
      ],
      "metadata": {
        "id": "S99OlXB8DB46"
      },
      "execution_count": 3,
      "outputs": []
    },
    {
      "cell_type": "code",
      "source": [
        "# AVRO schema for driver availability\n",
        "driver_availability_schema = {\n",
        "    \"type\": \"record\",\n",
        "    \"name\": \"DriverAvailability\",\n",
        "    \"fields\": [\n",
        "        {\"name\": \"driver_id\", \"type\": \"string\"},\n",
        "        {\"name\": \"available_since\", \"type\": \"string\"},\n",
        "        {\"name\": \"vehicle_type\", \"type\": \"string\"},\n",
        "        {\"name\": \"current_longitude\", \"type\": \"double\"},\n",
        "        {\"name\": \"current_latitude\", \"type\": \"double\"},\n",
        "        {\"name\": \"availability_status\", \"type\": \"string\"}\n",
        "    ]\n",
        "}"
      ],
      "metadata": {
        "id": "6nyClcWBDMxM"
      },
      "execution_count": 4,
      "outputs": []
    },
    {
      "cell_type": "markdown",
      "source": [
        "Once the Avro schemas were defined we started to create two main functions for the data generator. However, since we wanted to make it as realistic as possible we had to define the types of vehicles and Madrid coordinates."
      ],
      "metadata": {
        "id": "yTGSdbvfEDDP"
      }
    },
    {
      "cell_type": "code",
      "source": [
        "# We use the following webpage to define the Madrid area in coordinates format: http://bboxfinder.com/#0.000000,0.000000,0.000000,0.000000\n",
        "MADRID_LAT_MIN, MADRID_LAT_MAX = 40.30, 40.50\n",
        "MADRID_LON_MIN, MADRID_LON_MAX = -3.75, -3.60\n",
        "\n",
        "def random_madrid_location():\n",
        "    \"\"\"Generate a random latitude & longitude within Madrid.\"\"\"\n",
        "    lat = round(random.uniform(MADRID_LAT_MIN, MADRID_LAT_MAX), 6)\n",
        "    lon = round(random.uniform(MADRID_LON_MIN, MADRID_LON_MAX), 6)\n",
        "    return lat, lon\n",
        "\n",
        "\n",
        "# We defined the different vehicle types & an approximate fare.\n",
        "FARE_CONFIG = {\n",
        "    \"Economy\": {\"base\": 2.5, \"per_km\": 1.2, \"surcharge\": 0.5},\n",
        "    \"Standard\": {\"base\": 3.0, \"per_km\": 1.5, \"surcharge\": 1.0},\n",
        "    \"Luxury\": {\"base\": 5.0, \"per_km\": 2.5, \"surcharge\": 2.0},\n",
        "}\n",
        "\n",
        "def calculate_fare(vehicle_type, distance_km):\n",
        "    \"\"\"Calculate fare based on distance & vehicle type.\"\"\"\n",
        "    config = FARE_CONFIG[vehicle_type]\n",
        "    return round(config[\"base\"] + (distance_km * config[\"per_km\"]) + config[\"surcharge\"], 2)"
      ],
      "metadata": {
        "id": "CqmoKFP7EWEm"
      },
      "execution_count": 5,
      "outputs": []
    },
    {
      "cell_type": "markdown",
      "source": [
        "Now that we had everything set up, we started to create the two data generators for the two data feeds"
      ],
      "metadata": {
        "id": "VhPAkwPwFNsM"
      }
    },
    {
      "cell_type": "markdown",
      "source": [
        "\n",
        "\n",
        "1st function: to generate passenger requests which takes pickup location & dropoff location randomly to make it more realistic.\n",
        "\n",
        "This function contains the id of the request, the vendor_id which handle the request, number of passengers, pickup_datetime, pickup / dropoff location, type of vehicle and the charged amount for the trip\n",
        "\n",
        "\n",
        "---\n",
        "\n",
        "\n",
        "2nd function: to generate driver availability which contains the driver_id, availability status, vehicle type, current location of the driver and the availability.\n",
        "\n"
      ],
      "metadata": {
        "id": "AYe6_Z7jDDsI"
      }
    },
    {
      "cell_type": "code",
      "source": [
        "def generate_passenger_request():\n",
        "    \"\"\"Generate a ride request within Madrid.\"\"\"\n",
        "    pickup_lat, pickup_lon = random_madrid_location()\n",
        "    dropoff_lat, dropoff_lon = random_madrid_location()\n",
        "    distance_km = geodesic((pickup_lat, pickup_lon), (dropoff_lat, dropoff_lon)).km\n",
        "    vehicle_type = random.choice(list(FARE_CONFIG.keys()))\n",
        "    fare_estimate = calculate_fare(vehicle_type, distance_km)\n",
        "\n",
        "    return {\n",
        "        \"id\": str(uuid.uuid4()),\n",
        "        \"vendor_id\": random.randint(1, 3),\n",
        "        \"pickup_datetime\": datetime.utcnow().isoformat(),\n",
        "        \"passenger_count\": random.randint(1, 4),\n",
        "        \"pickup_longitude\": pickup_lon,\n",
        "        \"pickup_latitude\": pickup_lat,\n",
        "        \"dropoff_longitude\": dropoff_lon,\n",
        "        \"dropoff_latitude\": dropoff_lat,\n",
        "        \"vehicle_type\": vehicle_type,\n",
        "        \"fare_estimate\": fare_estimate\n",
        "    }\n",
        "\n",
        "def generate_driver_availability():\n",
        "    \"\"\"Generate a driver availability event in Madrid.\"\"\"\n",
        "    driver_lat, driver_lon = random_madrid_location()\n",
        "    return {\n",
        "        \"driver_id\": str(uuid.uuid4()),\n",
        "        \"available_since\": datetime.utcnow().isoformat(),\n",
        "        \"vehicle_type\": random.choice(list(FARE_CONFIG.keys())),\n",
        "        \"current_longitude\": driver_lon,\n",
        "        \"current_latitude\": driver_lat,\n",
        "        \"availability_status\": random.choice([\"Available\", \"Busy\"])\n",
        "    }"
      ],
      "metadata": {
        "id": "fwO4VLqNt7Vc"
      },
      "execution_count": 6,
      "outputs": []
    },
    {
      "cell_type": "markdown",
      "source": [
        "To continue, once the data generators were created we had to searilize the data in order to pass the info from JSON to Avro format (we used fastavro for this). As seen in class, this part is key in order to compact the data in a binary form that reduces storage size offering faster streaming and processing."
      ],
      "metadata": {
        "id": "9DSJa-NlF9JB"
      }
    },
    {
      "cell_type": "code",
      "source": [
        "def serialize_to_avro(data, schema, file_path):\n",
        "    \"\"\"Serialize data to AVRO format.\"\"\"\n",
        "    with open(file_path, \"wb\") as out_file:\n",
        "        fastavro.writer(out_file, schema, data)"
      ],
      "metadata": {
        "id": "E0uGkJIXuX_U"
      },
      "execution_count": 7,
      "outputs": []
    },
    {
      "cell_type": "markdown",
      "source": [
        "Finally, we tested the data generators with 5 passenger requests and 5 drivers to see how it was working."
      ],
      "metadata": {
        "id": "UgBmT0mDHCSX"
      }
    },
    {
      "cell_type": "code",
      "source": [
        "num_requests = 5\n",
        "num_drivers = 5\n",
        "passenger_requests = [generate_passenger_request() for _ in range(num_requests)]\n",
        "driver_availabilities = [generate_driver_availability() for _ in range(num_drivers)]\n",
        "\n",
        "# In order to save to Avro format\n",
        "serialize_to_avro(passenger_requests, passenger_request_schema, \"passenger_requests.avro\")\n",
        "serialize_to_avro(driver_availabilities, driver_availability_schema, \"driver_availability.avro\")\n",
        "\n",
        "# JSON format:\n",
        "print(\"Sample passenger requests data:\")\n",
        "for request in passenger_requests:\n",
        "    print(json.dumps(request, indent=4))\n",
        "\n",
        "print(\"\\nSample driver availability data:\")\n",
        "for driver in driver_availabilities:\n",
        "    print(json.dumps(driver, indent=4))"
      ],
      "metadata": {
        "colab": {
          "base_uri": "https://localhost:8080/"
        },
        "id": "06VuESqfucv8",
        "outputId": "d94fd007-c647-45f8-bb12-626fb786dcbf"
      },
      "execution_count": 8,
      "outputs": [
        {
          "output_type": "stream",
          "name": "stdout",
          "text": [
            "Sample passenger requests data:\n",
            "{\n",
            "    \"id\": \"c060a1a1-2060-4403-90a2-ffcfac7c81d6\",\n",
            "    \"vendor_id\": 3,\n",
            "    \"pickup_datetime\": \"2025-03-15T10:17:06.402187\",\n",
            "    \"passenger_count\": 3,\n",
            "    \"pickup_longitude\": -3.738148,\n",
            "    \"pickup_latitude\": 40.397984,\n",
            "    \"dropoff_longitude\": -3.709403,\n",
            "    \"dropoff_latitude\": 40.357536,\n",
            "    \"vehicle_type\": \"Luxury\",\n",
            "    \"fare_estimate\": 19.78\n",
            "}\n",
            "{\n",
            "    \"id\": \"556d2a74-9116-41ce-ba9d-15f83628f2c6\",\n",
            "    \"vendor_id\": 1,\n",
            "    \"pickup_datetime\": \"2025-03-15T10:17:06.402580\",\n",
            "    \"passenger_count\": 2,\n",
            "    \"pickup_longitude\": -3.619427,\n",
            "    \"pickup_latitude\": 40.429154,\n",
            "    \"dropoff_longitude\": -3.652216,\n",
            "    \"dropoff_latitude\": 40.32655,\n",
            "    \"vehicle_type\": \"Economy\",\n",
            "    \"fare_estimate\": 17.07\n",
            "}\n",
            "{\n",
            "    \"id\": \"626da2bb-49ad-4d14-b13d-ce23bf8a5c5c\",\n",
            "    \"vendor_id\": 1,\n",
            "    \"pickup_datetime\": \"2025-03-15T10:17:06.402899\",\n",
            "    \"passenger_count\": 1,\n",
            "    \"pickup_longitude\": -3.742498,\n",
            "    \"pickup_latitude\": 40.472882,\n",
            "    \"dropoff_longitude\": -3.631381,\n",
            "    \"dropoff_latitude\": 40.430341,\n",
            "    \"vehicle_type\": \"Economy\",\n",
            "    \"fare_estimate\": 15.65\n",
            "}\n",
            "{\n",
            "    \"id\": \"1b053d56-1cf1-4717-ab49-bbc0459b1517\",\n",
            "    \"vendor_id\": 3,\n",
            "    \"pickup_datetime\": \"2025-03-15T10:17:06.403260\",\n",
            "    \"passenger_count\": 1,\n",
            "    \"pickup_longitude\": -3.662929,\n",
            "    \"pickup_latitude\": 40.493166,\n",
            "    \"dropoff_longitude\": -3.669687,\n",
            "    \"dropoff_latitude\": 40.380144,\n",
            "    \"vehicle_type\": \"Economy\",\n",
            "    \"fare_estimate\": 18.08\n",
            "}\n",
            "{\n",
            "    \"id\": \"19edd037-860a-4515-8caf-0979635337f2\",\n",
            "    \"vendor_id\": 3,\n",
            "    \"pickup_datetime\": \"2025-03-15T10:17:06.403574\",\n",
            "    \"passenger_count\": 1,\n",
            "    \"pickup_longitude\": -3.699939,\n",
            "    \"pickup_latitude\": 40.462219,\n",
            "    \"dropoff_longitude\": -3.7151,\n",
            "    \"dropoff_latitude\": 40.496242,\n",
            "    \"vehicle_type\": \"Standard\",\n",
            "    \"fare_estimate\": 9.99\n",
            "}\n",
            "\n",
            "Sample driver availability data:\n",
            "{\n",
            "    \"driver_id\": \"b141df00-5ba5-4c8f-ae6e-87cfe79f0d0b\",\n",
            "    \"available_since\": \"2025-03-15T10:17:06.403770\",\n",
            "    \"vehicle_type\": \"Economy\",\n",
            "    \"current_longitude\": -3.65426,\n",
            "    \"current_latitude\": 40.382009,\n",
            "    \"availability_status\": \"Busy\"\n",
            "}\n",
            "{\n",
            "    \"driver_id\": \"61dc39f5-402c-4d03-91c7-8a8d9b921309\",\n",
            "    \"available_since\": \"2025-03-15T10:17:06.403800\",\n",
            "    \"vehicle_type\": \"Luxury\",\n",
            "    \"current_longitude\": -3.673571,\n",
            "    \"current_latitude\": 40.414452,\n",
            "    \"availability_status\": \"Busy\"\n",
            "}\n",
            "{\n",
            "    \"driver_id\": \"531a7f8c-75b0-463c-ac64-c4a6c7896981\",\n",
            "    \"available_since\": \"2025-03-15T10:17:06.403821\",\n",
            "    \"vehicle_type\": \"Standard\",\n",
            "    \"current_longitude\": -3.68409,\n",
            "    \"current_latitude\": 40.333771,\n",
            "    \"availability_status\": \"Busy\"\n",
            "}\n",
            "{\n",
            "    \"driver_id\": \"ca996946-bc20-4d42-a658-8f70910edcf9\",\n",
            "    \"available_since\": \"2025-03-15T10:17:06.403839\",\n",
            "    \"vehicle_type\": \"Standard\",\n",
            "    \"current_longitude\": -3.74273,\n",
            "    \"current_latitude\": 40.478558,\n",
            "    \"availability_status\": \"Available\"\n",
            "}\n",
            "{\n",
            "    \"driver_id\": \"85d05f15-5091-4418-aa0b-4b3a28226411\",\n",
            "    \"available_since\": \"2025-03-15T10:17:06.403854\",\n",
            "    \"vehicle_type\": \"Economy\",\n",
            "    \"current_longitude\": -3.702252,\n",
            "    \"current_latitude\": 40.388733,\n",
            "    \"availability_status\": \"Available\"\n",
            "}\n"
          ]
        }
      ]
    }
  ]
}